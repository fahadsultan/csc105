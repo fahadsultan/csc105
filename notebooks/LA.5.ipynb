{
 "cells": [
  {
   "cell_type": "markdown",
   "id": "dfb550e2",
   "metadata": {},
   "source": [
    "# Q1. Print absolute value of input `x`\n",
    "\n",
    "The absolute value of a real number x, denoted |x|, is the non-negative value of x without regard to its sign i.e."
   ]
  },
  {
   "cell_type": "markdown",
   "id": "55e5e674",
   "metadata": {},
   "source": [
    "![absolute](https://www.gstatic.com/education/formulas2/443397389/en/absolute_value.svg)"
   ]
  },
  {
   "cell_type": "markdown",
   "id": "a3a0628b",
   "metadata": {},
   "source": [
    "Write a function `csc105_abs` that takes in one input of numeric type and returns the input's absolute value. "
   ]
  },
  {
   "cell_type": "code",
   "execution_count": null,
   "id": "b75fd69a",
   "metadata": {},
   "outputs": [],
   "source": [
    "def csc105_abs(x):\n",
    "    # Insert your code here \n",
    "    \n",
    "\n",
    "assert csc105_abs(-10)    == 10,    \"Test case 1 failed\"\n",
    "assert csc105_abs(10)     == 10,    \"Test case 2 failed\"\n",
    "assert csc105_abs(-3.14)  == 3.14,  \"Test case 3 failed\"\n",
    "assert csc105_abs(0)      == 0,     \"Test case 4 failed\"\n",
    "assert csc105_abs(True)   == True,  \"Test case 5 failed\"\n",
    "\n",
    "print(\"All test cases passed successfully\")"
   ]
  },
  {
   "cell_type": "markdown",
   "id": "b056af6e",
   "metadata": {},
   "source": [
    "# Q2. Check if a point (`a`, `b`) lies inside a rectangle \n",
    "\n",
    "Given coordinates of the bottom-left corner (`bottom`, `left`) and top-right (`top`, `right`) corner of a rectangle, check if a point (`a`, `b`) lies inside this rectangle or not."
   ]
  },
  {
   "cell_type": "markdown",
   "id": "f2ea4d64",
   "metadata": {},
   "source": [
    "<!-- ![img](https://i.ibb.co/W6ypgrV/Screen-Shot-2022-09-07-at-1-04-29-AM.png) -->\n",
    "\n",
    "<img src=\"https://i.ibb.co/W6ypgrV/Screen-Shot-2022-09-07-at-1-04-29-AM.png\" alt=\"drawing\" width=\"700\"/>"
   ]
  },
  {
   "cell_type": "code",
   "execution_count": null,
   "id": "339f169e",
   "metadata": {},
   "outputs": [],
   "source": [
    "def inside_rectangle(left, bottom, right, top, a, b):\n",
    "    \n",
    "    # Write your code here \n",
    "    \n",
    "\n",
    "assert inside_rectangle(0, 0, 10, 10, 5, 5)     == True,  \"Test case 1 failed\"\n",
    "assert inside_rectangle(0, 0, 10, 10, 11, 5)    == False, \"Test case 2 failed\"\n",
    "assert inside_rectangle(0, 0, 10, 10, 5, 11)    == False, \"Test case 3 failed\"\n",
    "assert inside_rectangle(0, 0, 10, 10, 11, 11)   == False, \"Test case 4 failed\"\n",
    "assert inside_rectangle(12, 30, 30, 40, 15, 25) == True,  \"Test case 5 failed\"\n",
    "\n",
    "print(\"All test cases passed successfully\")"
   ]
  },
  {
   "cell_type": "markdown",
   "id": "0bea274e",
   "metadata": {},
   "source": [
    "# Q3. Check if input `year` is a leap year"
   ]
  },
  {
   "cell_type": "markdown",
   "id": "a3567eb9",
   "metadata": {},
   "source": [
    "Implement a function `is_leap_year`, which takes as input a `year` and returns `True` if the given year is in fact leap year, otherwise returns `False`."
   ]
  },
  {
   "cell_type": "markdown",
   "id": "4b57f161",
   "metadata": {},
   "source": [
    "![leapyear](https://www.softwareideas.net/i/DirectImage/1812/Leap-Year--Flowchart-)"
   ]
  },
  {
   "cell_type": "code",
   "execution_count": null,
   "id": "fee53414",
   "metadata": {},
   "outputs": [],
   "source": [
    "def is_leap_year(year):\n",
    "    \n",
    "    # Insert code here \n",
    "    \n",
    "    \n",
    "    \n",
    "print(\"Test case 1   passed: \", is_leap_year(2000) == True)\n",
    "print(\"Test case 2   passed: \", is_leap_year(2001) == False)\n",
    "print(\"Test case 3   passed: \", is_leap_year(2002) == False)\n",
    "print(\"Test case 4   passed: \", is_leap_year(2003) == False)\n",
    "print(\"Test case 5   passed: \", is_leap_year(2004) == True)\n",
    "print(\"Test case 6   passed: \", is_leap_year(2005) == False)\n",
    "print(\"Test case 7   passed: \", is_leap_year(2006) == False)\n",
    "print(\"Test case 8   passed: \", is_leap_year(2007) == False)\n",
    "print(\"Test case 9   passed: \", is_leap_year(2008) == True)\n",
    "print(\"Test case 10  passed: \", is_leap_year(2009) == False)\n",
    "print(\"Test case 11  passed: \", is_leap_year(2010) == False)\n",
    "print(\"Test case 12  passed: \", is_leap_year(2011) == False)\n",
    "print(\"Test case 13  passed: \", is_leap_year(2012) == True)\n",
    "print(\"Test case 14  passed: \", is_leap_year(2013) == False)\n",
    "print(\"Test case 15  passed: \", is_leap_year(2014) == False)\n",
    "print(\"Test case 16  passed: \", is_leap_year(2015) == False)\n",
    "print(\"Test case 17  passed: \", is_leap_year(2016) == True)\n",
    "print(\"Test case 18  passed: \", is_leap_year(2017) == False)\n",
    "print(\"Test case 19  passed: \", is_leap_year(2018) == False)\n",
    "print(\"Test case 20  passed: \", is_leap_year(2019) == False)\n",
    "print(\"Test case 21  passed: \", is_leap_year(2020) == True)\n",
    "print(\"Test case 22  passed: \", is_leap_year(2021) == False)\n",
    "print(\"Test case 23  passed: \", is_leap_year(2022) == False)\n",
    "\n",
    "print(\"All test cases passed successfully\")"
   ]
  }
 ],
 "metadata": {
  "kernelspec": {
   "display_name": "Python 3 (ipykernel)",
   "language": "python",
   "name": "python3"
  },
  "language_info": {
   "codemirror_mode": {
    "name": "ipython",
    "version": 3
   },
   "file_extension": ".py",
   "mimetype": "text/x-python",
   "name": "python",
   "nbconvert_exporter": "python",
   "pygments_lexer": "ipython3",
   "version": "3.9.12"
  }
 },
 "nbformat": 4,
 "nbformat_minor": 5
}
