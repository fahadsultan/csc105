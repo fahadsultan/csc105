{
 "cells": [
  {
   "cell_type": "markdown",
   "id": "45b68017",
   "metadata": {},
   "source": [
    "<center><h1>Introduction to Computer Science<br/><br/>Lab 1</h1></center>"
   ]
  },
  {
   "cell_type": "markdown",
   "id": "8d817fc2",
   "metadata": {},
   "source": [
    "## Question 1. Theory of Relativity\n",
    "\n",
    "Given a mass $m$ and speed of light $c$, compute energy $E$ using the formula $E=mc^2$"
   ]
  },
  {
   "cell_type": "code",
   "execution_count": null,
   "id": "8abaa60b",
   "metadata": {},
   "outputs": [],
   "source": [
    "m = 10\n",
    "c = 299792458 \n",
    "\n",
    "e = \n",
    "\n",
    "e"
   ]
  },
  {
   "cell_type": "markdown",
   "id": "e6bad809",
   "metadata": {},
   "source": [
    "## Question 2. Pythagorean theorem\n",
    "\n",
    "Given two sides of a right angle triangle $b$ and $c$, compute the hypotenuse $a$ using the Pythagorean theorem: $a = \\sqrt{b^2 + c^2}$"
   ]
  },
  {
   "cell_type": "code",
   "execution_count": null,
   "id": "8d062a34",
   "metadata": {},
   "outputs": [],
   "source": [
    "b = 10\n",
    "c = 5\n",
    "\n",
    "a = \n",
    "\n",
    "a"
   ]
  },
  {
   "cell_type": "markdown",
   "id": "d24ae3f6",
   "metadata": {},
   "source": [
    "## Question 3. Area of a circle\n",
    "\n",
    "Given radius of a circle $r$, compute area of a circle using formula: $A = \\pi r^2$"
   ]
  },
  {
   "cell_type": "code",
   "execution_count": null,
   "id": "1d094170",
   "metadata": {},
   "outputs": [],
   "source": [
    "pi = 3.141592653589793\n",
    "r = 10\n",
    "\n",
    "area = \n",
    "\n",
    "area"
   ]
  },
  {
   "cell_type": "markdown",
   "id": "fc38d3f4",
   "metadata": {},
   "source": [
    "## Question 4. Rounded up tip"
   ]
  },
  {
   "cell_type": "markdown",
   "id": "dd21e862",
   "metadata": {},
   "source": [
    "Change the code below from class to now compute `20%` tip by rounding up and not rounding down. \n",
    "\n",
    "After your change, `cheque_amount = 27.03` should result in `tip=6` "
   ]
  },
  {
   "cell_type": "code",
   "execution_count": null,
   "id": "46331063",
   "metadata": {},
   "outputs": [],
   "source": [
    "cheque_amount = 27.03 "
   ]
  },
  {
   "cell_type": "code",
   "execution_count": null,
   "id": "dd76584f",
   "metadata": {},
   "outputs": [],
   "source": [
    "ten_percent = cheque_amount / 10"
   ]
  },
  {
   "cell_type": "code",
   "execution_count": null,
   "id": "3c1a5851",
   "metadata": {},
   "outputs": [],
   "source": [
    "rounded_down = ten_percent // 1 "
   ]
  },
  {
   "cell_type": "code",
   "execution_count": null,
   "id": "15870ca0",
   "metadata": {},
   "outputs": [],
   "source": [
    "twenty_percent = rounded_down * 2"
   ]
  },
  {
   "cell_type": "code",
   "execution_count": null,
   "id": "19a68f98",
   "metadata": {},
   "outputs": [],
   "source": [
    "tip = twenty_percent "
   ]
  },
  {
   "cell_type": "code",
   "execution_count": null,
   "id": "5be66383",
   "metadata": {},
   "outputs": [],
   "source": [
    "tip"
   ]
  },
  {
   "cell_type": "markdown",
   "id": "29ad85bc",
   "metadata": {},
   "source": [
    "## Question 5. Integer Part \n",
    "\n",
    "For the following floating point variable, come up with the formula to get just the integer part \n",
    "\n",
    "For `cheque_amount=27.03` the `integer_part` should be equal to `27.0`"
   ]
  },
  {
   "cell_type": "code",
   "execution_count": null,
   "id": "b1b3b9fa",
   "metadata": {},
   "outputs": [],
   "source": [
    "cheque_amount = 27.03 \n",
    "\n",
    "integer_part = \n",
    "\n",
    "integer_part"
   ]
  },
  {
   "cell_type": "markdown",
   "id": "36048694",
   "metadata": {},
   "source": [
    "## Question 6. Fractional Part \n",
    "\n",
    "For the following floating point variable, come up with the formula to get just the fractional part \n",
    "\n",
    "For `cheque_amount=27.03` the `fractional_part` should be roughly equal to `0.03`"
   ]
  },
  {
   "cell_type": "code",
   "execution_count": null,
   "id": "c5f1c56e",
   "metadata": {},
   "outputs": [],
   "source": [
    "cheque_amount = 27.03 \n",
    "\n",
    "fractional_part = \n",
    "\n",
    "fractional_part"
   ]
  }
 ],
 "metadata": {
  "kernelspec": {
   "display_name": "Python 3 (ipykernel)",
   "language": "python",
   "name": "python3"
  },
  "language_info": {
   "codemirror_mode": {
    "name": "ipython",
    "version": 3
   },
   "file_extension": ".py",
   "mimetype": "text/x-python",
   "name": "python",
   "nbconvert_exporter": "python",
   "pygments_lexer": "ipython3",
   "version": "3.9.12"
  }
 },
 "nbformat": 4,
 "nbformat_minor": 5
}
