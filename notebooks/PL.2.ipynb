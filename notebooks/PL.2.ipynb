{
 "cells": [
  {
   "cell_type": "markdown",
   "id": "5fa07270",
   "metadata": {},
   "source": [
    "<center><h1> PYTHON LECTURE 2 </h1></center>\n",
    "\n",
    "<hr/>"
   ]
  },
  {
   "cell_type": "markdown",
   "id": "947a3b96",
   "metadata": {
    "slideshow": {
     "slide_type": "slide"
    }
   },
   "source": [
    "# 2.1. Variable Names\n",
    "\n",
    "\n",
    "* _**Variable Names must be descriptive!**_\n",
    "\n",
    "* A variable name **must start with a letter or the underscore character**\n",
    "\n",
    "* A variable name **cannot start with a number**\n",
    "\n",
    "* A variable name can **only contain alpha-numeric characters and underscores** (`A-z`, `0-9`, and `_` )\n",
    "\n",
    "* Variable names are **case-sensitive** (age, Age and AGE are three different variables)\n",
    "\n",
    "* In Python, the convention is to **_NOT_ use upper case letters** anywhere in the name. In case of multi-word names, use `_` .\n"
   ]
  },
  {
   "cell_type": "code",
   "execution_count": null,
   "id": "32268213",
   "metadata": {
    "slideshow": {
     "slide_type": "slide"
    }
   },
   "outputs": [],
   "source": [
    "ten_percent = 3\n",
    "ten_percent"
   ]
  },
  {
   "cell_type": "code",
   "execution_count": null,
   "id": "66cb2726",
   "metadata": {},
   "outputs": [],
   "source": [
    "Ten_percent = 10\n",
    "Ten_percent"
   ]
  },
  {
   "cell_type": "code",
   "execution_count": null,
   "id": "fd7d3d8a",
   "metadata": {},
   "outputs": [],
   "source": [
    "TEN_PERCENT = 10000\n",
    "TEN_PERCENT"
   ]
  },
  {
   "cell_type": "code",
   "execution_count": null,
   "id": "0f25fcfb",
   "metadata": {},
   "outputs": [],
   "source": [
    "ten_percent = 5\n",
    "ten_percent"
   ]
  },
  {
   "cell_type": "code",
   "execution_count": null,
   "id": "625370be",
   "metadata": {},
   "outputs": [],
   "source": [
    "age = 2\n",
    "age"
   ]
  },
  {
   "cell_type": "code",
   "execution_count": null,
   "id": "aecab2ee",
   "metadata": {},
   "outputs": [],
   "source": [
    "Age = 20\n",
    "Age"
   ]
  },
  {
   "cell_type": "code",
   "execution_count": null,
   "id": "b34c22c6",
   "metadata": {},
   "outputs": [],
   "source": [
    "AGE = 200\n",
    "AGE"
   ]
  },
  {
   "cell_type": "markdown",
   "id": "721f9b10",
   "metadata": {
    "slideshow": {
     "slide_type": "slide"
    }
   },
   "source": [
    "Which of the following variable names would throw a Syntax Errox?"
   ]
  },
  {
   "cell_type": "code",
   "execution_count": null,
   "id": "4d14733c",
   "metadata": {
    "scrolled": true
   },
   "outputs": [],
   "source": [
    "10_percent = 27.03 / 10"
   ]
  },
  {
   "cell_type": "code",
   "execution_count": null,
   "id": "47be0ea7",
   "metadata": {},
   "outputs": [],
   "source": [
    "ten_percent = 27.03 / 10\n",
    "ten_percent"
   ]
  },
  {
   "cell_type": "code",
   "execution_count": null,
   "id": "c050b10f",
   "metadata": {},
   "outputs": [],
   "source": [
    "_10_percent = 27.03 / 10\n",
    "_10_percent"
   ]
  },
  {
   "cell_type": "code",
   "execution_count": null,
   "id": "d9724429",
   "metadata": {},
   "outputs": [],
   "source": [
    "20_percent = 27.03 / 10"
   ]
  },
  {
   "cell_type": "code",
   "execution_count": null,
   "id": "da94252b",
   "metadata": {},
   "outputs": [],
   "source": [
    "twenty_percent = 27.03 / 10"
   ]
  },
  {
   "cell_type": "code",
   "execution_count": null,
   "id": "26ad6711",
   "metadata": {
    "slideshow": {
     "slide_type": "-"
    }
   },
   "outputs": [],
   "source": [
    "twenty_% = 27.03 / 10"
   ]
  },
  {
   "cell_type": "markdown",
   "id": "881e2278",
   "metadata": {},
   "source": [
    "<hr/>"
   ]
  },
  {
   "cell_type": "markdown",
   "id": "141213c7",
   "metadata": {
    "slideshow": {
     "slide_type": "slide"
    }
   },
   "source": [
    "# 2.2. Reserved words Python"
   ]
  },
  {
   "cell_type": "markdown",
   "id": "6566b223",
   "metadata": {},
   "source": [
    "`False`, `def`, `if`, `raise`,\n",
    "`None`,\t`del`,\t`import`,\t`return`,\n",
    "`True`,\t`elif`\t,`in`,\t`try`,\n",
    "`and`,\t`else`,\t`is`,\t`while`,\n",
    "`as`,\t`except`,\t`lambda`, `with`\n",
    "`assert`,\t`finally`,\t`nonlocal`,\t`yield`\n",
    "`break`,\t`for`,\t`not`\t\n",
    "`class`,\t`from`,\t`or`,\t\n",
    "`continue`,\t`global`,\t`pass`"
   ]
  },
  {
   "cell_type": "code",
   "execution_count": null,
   "id": "8d7b0377",
   "metadata": {},
   "outputs": [],
   "source": [
    "\"\"\"Reserved words in Python\n",
    "---------------------------\n",
    "\n",
    "Before you run this cell, \n",
    "think about which outputs would \n",
    "generate a Syntax Error\n",
    "\"\"\"\n",
    "\n",
    "False = 2\n",
    "false = 2\n",
    "while = 10\n",
    "_while = 10"
   ]
  },
  {
   "cell_type": "markdown",
   "id": "8be04472",
   "metadata": {},
   "source": [
    "<hr/>"
   ]
  },
  {
   "cell_type": "markdown",
   "id": "4c2a022f",
   "metadata": {
    "slideshow": {
     "slide_type": "slide"
    }
   },
   "source": [
    "# 2.3. Operator Precedence"
   ]
  },
  {
   "cell_type": "markdown",
   "id": "acfcb04c",
   "metadata": {},
   "source": [
    "* Expressions evaluate as per rules of precdence\n",
    "\n",
    "* For operators with equal precedence, the evaluation takes place **left to right**\n",
    "\n",
    "* Operator Precedence in decreasing order in table below: \n",
    "\n",
    "    * The higher the operator in the table, the higher its priority"
   ]
  },
  {
   "cell_type": "markdown",
   "id": "d87d1fc8",
   "metadata": {},
   "source": [
    "| Syntax      || Description |\n",
    "| :----------- || -----------: |\n",
    "| ()      || Parentheses |\n",
    "| **      || Exponent    |\n",
    "| *,  /,  //,  % || Multiplication, Division, Floor division, Modulus|\n",
    "| +, - || Addition, Subtraction|\n",
    "|==, !=, >, >=, <, <= || Equal, Not Equal, Less Than, Less Than Equal, Greater Than, Greater Than Equal ||"
   ]
  },
  {
   "cell_type": "code",
   "execution_count": null,
   "id": "a1173710",
   "metadata": {
    "slideshow": {
     "slide_type": "slide"
    }
   },
   "outputs": [],
   "source": [
    "1+1+1+1+1*0"
   ]
  },
  {
   "cell_type": "code",
   "execution_count": null,
   "id": "656e415c",
   "metadata": {},
   "outputs": [],
   "source": [
    "9**1/2"
   ]
  },
  {
   "cell_type": "code",
   "execution_count": null,
   "id": "6bc5314e",
   "metadata": {},
   "outputs": [],
   "source": [
    "100/10/10"
   ]
  },
  {
   "cell_type": "code",
   "execution_count": null,
   "id": "74af5413",
   "metadata": {},
   "outputs": [],
   "source": [
    "100/(10/10)"
   ]
  },
  {
   "cell_type": "code",
   "execution_count": null,
   "id": "2f9d4fe5",
   "metadata": {},
   "outputs": [],
   "source": [
    "10 + 10 / 10"
   ]
  },
  {
   "cell_type": "code",
   "execution_count": null,
   "id": "70049ee0",
   "metadata": {},
   "outputs": [],
   "source": [
    "(2+2)**1/2"
   ]
  },
  {
   "cell_type": "code",
   "execution_count": null,
   "id": "163c78dc",
   "metadata": {},
   "outputs": [],
   "source": [
    "36**1/2"
   ]
  },
  {
   "cell_type": "markdown",
   "id": "3568926a",
   "metadata": {},
   "source": [
    "<hr/>"
   ]
  },
  {
   "cell_type": "markdown",
   "id": "a9f0d69c",
   "metadata": {
    "slideshow": {
     "slide_type": "slide"
    }
   },
   "source": [
    "# 2.4. Flow / Directionality of Execution \n",
    "\n",
    "1. **Programs** (multiple lines of code) run each line of code sequentially **top to bottom**\n",
    "\n",
    "\n",
    "2. **Statements** (single line of code) run **right to left**\n",
    "\n",
    "    * Expression on right hand side of assignment/boolean operator is executed first\n",
    "    \n",
    "    * Then, left hand expression of assignment operator is executed\n",
    "\n",
    "\n",
    "3. **Expressions** ( < 1 line of code) run as per rules of precedence; for operators of equal precedence, expressions run **left to right**. \n"
   ]
  },
  {
   "cell_type": "markdown",
   "id": "42e1a95e",
   "metadata": {},
   "source": [
    "<hr/>"
   ]
  },
  {
   "cell_type": "markdown",
   "id": "93b3e5dd",
   "metadata": {
    "slideshow": {
     "slide_type": "slide"
    }
   },
   "source": [
    "# 2.5. Python Comments\n",
    "\n",
    "Old programming wisdom:\n",
    "> Programs must be written for people to read, and only incidentally for machines to execute.\n",
    "\n",
    "\n",
    "* Comments in code are _literally_ there only for people to read and **never** for machines to execute\n",
    "\n",
    "* Use comments to explain your code.\n",
    "\n",
    "* Use comments to make your code more readable.\n"
   ]
  },
  {
   "cell_type": "markdown",
   "id": "668293ca",
   "metadata": {
    "slideshow": {
     "slide_type": "slide"
    }
   },
   "source": [
    "* **Single line comments** starts with a `#`, and Python will ignore them:"
   ]
  },
  {
   "cell_type": "code",
   "execution_count": null,
   "id": "873a6ea7",
   "metadata": {},
   "outputs": [],
   "source": [
    "a = 1\n",
    "a = a + 1 # * 10\n",
    "print(a)"
   ]
  },
  {
   "cell_type": "markdown",
   "id": "290c8e44",
   "metadata": {},
   "source": [
    "* Comments can be placed at the end of a line, and Python will ignore the rest of the line:"
   ]
  },
  {
   "cell_type": "code",
   "execution_count": null,
   "id": "2b92b84d",
   "metadata": {},
   "outputs": [],
   "source": [
    "print(\"Hello\")\n",
    "print(a)\n",
    "# print(\"World\")"
   ]
  },
  {
   "cell_type": "markdown",
   "id": "c35f70d7",
   "metadata": {
    "slideshow": {
     "slide_type": "-"
    }
   },
   "source": [
    "* Note how comments can be plain English to increase readability\n",
    "    * Or code, if you are trying to fix a bug or designing the algorithm"
   ]
  },
  {
   "cell_type": "markdown",
   "id": "00907b91",
   "metadata": {},
   "source": [
    "* **Multi-line comments** start and end with `\"\"\"`"
   ]
  },
  {
   "cell_type": "code",
   "execution_count": null,
   "id": "d83d89c4",
   "metadata": {
    "slideshow": {
     "slide_type": "slide"
    }
   },
   "outputs": [],
   "source": [
    "\"\"\"\n",
    "Print \n",
    "multiples\n",
    "of \n",
    "3 \n",
    "\"\"\"\n",
    "\n",
    "a = 1\n",
    "\n",
    "#Get first multiple of 3\n",
    "a = a * 3\n",
    "print(a)\n",
    "\n",
    "#Get second multiple of 3\n",
    "a = a * 3\n",
    "print(a)\n",
    "\n",
    "#Get third multiple of 3\n",
    "a = a * 3\n",
    "print(a)"
   ]
  },
  {
   "cell_type": "code",
   "execution_count": null,
   "id": "2b783896",
   "metadata": {
    "slideshow": {
     "slide_type": "slide"
    }
   },
   "outputs": [],
   "source": [
    "\"\"\" \n",
    "Jane Doe Algorithm, for calculating gratuity\n",
    "\n",
    "computes 20% gratuity in three easy steps. \n",
    "\n",
    "Input(s)\n",
    "--------\n",
    "cheque_amount : int\n",
    "\n",
    "Output \n",
    "------\n",
    "int\n",
    "    20% of the cheque_amount\n",
    "\"\"\"\n",
    "\n",
    "cheque_amount = 27.03\n",
    "\n",
    "# 1. Compute 10% by moving the decimal point, one place, to the left\n",
    "Ten_percent = cheque_amount / 10\n",
    "\n",
    "# 2. Round the number \n",
    "ten_number_rounded = round(ten_percent)\n",
    "\n",
    "# 3. Double it \n",
    "tip_amount = ten_number_rounded * 2\n",
    "\n",
    "tip_amount"
   ]
  },
  {
   "cell_type": "markdown",
   "id": "6ca5e51e",
   "metadata": {},
   "source": [
    "<hr/>"
   ]
  },
  {
   "cell_type": "markdown",
   "id": "9f8ce339",
   "metadata": {
    "slideshow": {
     "slide_type": "slide"
    }
   },
   "source": [
    "## 2.6. Boolean Operators"
   ]
  },
  {
   "cell_type": "markdown",
   "id": "1c1493f6",
   "metadata": {},
   "source": [
    "These operators return `True` or `False` (i.e. boolean data type). \n",
    "\n",
    "| Operator      | Description   |Example.      |\n",
    "| :-----------  | :-----------: |:-----------: |\n",
    "| ==  |  Returns `True` if left hand operand is equal to right hand operand. Otherwise, returns `False`  | `a+b == b+a` |\n",
    "| != |  Returns `True` if left hand operand is _NOT_ equal to  right hand operand. Otherwise, returns `False`.  | `a*b != b/a`|\n",
    "| < |  Returns `True` if left hand operand is less than right hand operand. Otherwise, returns `False`.  | `b/a < b`|\n",
    "| > |  Returns `True` if left hand operand is greater than right hand operand. Otherwise, returns `False`.  | `a*b > b`|\n",
    "| <= |  Returns `True` if left hand operand is less than or equal to right hand operand. Otherwise, returns `False`.  | `a-b <= a`|\n",
    "| >= |  Returns `True` if left hand operand is greater than or equal to right hand operand. Otherwise, returns `False`.  | `a*b >= b*a`|"
   ]
  },
  {
   "cell_type": "code",
   "execution_count": null,
   "id": "0319d6fe",
   "metadata": {
    "slideshow": {
     "slide_type": "slide"
    }
   },
   "outputs": [],
   "source": [
    "a = 2\n",
    "b = 10"
   ]
  },
  {
   "cell_type": "code",
   "execution_count": null,
   "id": "ef5073fb",
   "metadata": {},
   "outputs": [],
   "source": [
    "a+b == b+a"
   ]
  },
  {
   "cell_type": "code",
   "execution_count": null,
   "id": "4f810a59",
   "metadata": {},
   "outputs": [],
   "source": [
    "a+b != a*b"
   ]
  },
  {
   "cell_type": "code",
   "execution_count": null,
   "id": "415788ff",
   "metadata": {},
   "outputs": [],
   "source": [
    "a**2 == a*2"
   ]
  },
  {
   "cell_type": "code",
   "execution_count": null,
   "id": "37f3ae1b",
   "metadata": {},
   "outputs": [],
   "source": [
    "a+b < a+b"
   ]
  },
  {
   "cell_type": "code",
   "execution_count": null,
   "id": "92d1d393",
   "metadata": {},
   "outputs": [],
   "source": [
    "a+b <= a+b"
   ]
  },
  {
   "cell_type": "markdown",
   "id": "6642c21e",
   "metadata": {},
   "source": [
    "<hr/>"
   ]
  },
  {
   "cell_type": "markdown",
   "id": "18087a09",
   "metadata": {
    "slideshow": {
     "slide_type": "slide"
    }
   },
   "source": [
    "# 2.7. Functions: Our first means of abstraction"
   ]
  },
  {
   "cell_type": "markdown",
   "id": "6d7dd069",
   "metadata": {},
   "source": [
    "* Some useful built-in functions: \n",
    "    * `print(..)`\n",
    "    * `input(..)`\n",
    "    * `type(..)`\n",
    "    * `abs(..)`\n",
    "    * `round(..)`\n",
    "    * `help(..)`\n",
    "    "
   ]
  },
  {
   "cell_type": "markdown",
   "id": "5da94e3a",
   "metadata": {
    "slideshow": {
     "slide_type": "slide"
    }
   },
   "source": [
    "* Syntax: `output` = <name of function> **`(`** `input(s)` `) `"
   ]
  },
  {
   "cell_type": "code",
   "execution_count": null,
   "id": "0d5c6272",
   "metadata": {},
   "outputs": [],
   "source": [
    "print(\"\")"
   ]
  },
  {
   "cell_type": "markdown",
   "id": "91b7d226",
   "metadata": {
    "slideshow": {
     "slide_type": "slide"
    }
   },
   "source": [
    "**Pure Functions** "
   ]
  },
  {
   "cell_type": "markdown",
   "id": "ce29c829",
   "metadata": {},
   "source": [
    "<img src=\"https://composingprograms.com/img/function_abs.png\">"
   ]
  },
  {
   "cell_type": "markdown",
   "id": "4d779fe9",
   "metadata": {},
   "source": [
    "**Non-Pure Functions** "
   ]
  },
  {
   "cell_type": "markdown",
   "id": "3f40225e",
   "metadata": {},
   "source": [
    "<img src=\"https://composingprograms.com/img/function_print.png\">"
   ]
  },
  {
   "cell_type": "markdown",
   "id": "5cd73c8d",
   "metadata": {
    "slideshow": {
     "slide_type": "slide"
    }
   },
   "source": [
    "## 2.8. Looking up a function's documentation"
   ]
  },
  {
   "cell_type": "code",
   "execution_count": 5,
   "id": "9ebdf260",
   "metadata": {},
   "outputs": [
    {
     "name": "stdout",
     "output_type": "stream",
     "text": [
      "Help on built-in function print in module builtins:\n",
      "\n",
      "print(...)\n",
      "    print(value, ..., sep=' ', end='\\n', file=sys.stdout, flush=False)\n",
      "    \n",
      "    Prints the values to a stream, or to sys.stdout by default.\n",
      "    Optional keyword arguments:\n",
      "    file:  a file-like object (stream); defaults to the current sys.stdout.\n",
      "    sep:   string inserted between values, default a space.\n",
      "    end:   string appended after the last value, default a newline.\n",
      "    flush: whether to forcibly flush the stream.\n",
      "\n"
     ]
    }
   ],
   "source": [
    "help(print)"
   ]
  },
  {
   "cell_type": "markdown",
   "id": "865e1841",
   "metadata": {
    "slideshow": {
     "slide_type": "slide"
    }
   },
   "source": [
    "# 2.9. Overriding built-in functions"
   ]
  },
  {
   "cell_type": "markdown",
   "id": "5b1e778f",
   "metadata": {},
   "source": [
    "What happens when we override `round`, `input` or `print`"
   ]
  },
  {
   "cell_type": "code",
   "execution_count": null,
   "id": "34db23df",
   "metadata": {},
   "outputs": [],
   "source": [
    "\"\"\"Over-riding built-in functions:\n",
    "---------------------------------\n",
    "\n",
    "Before you run this cell,\n",
    "think about which line of code would \n",
    "generate an error, if any\n",
    "\n",
    "NOTE: YOU MAY WANT TO RESTART THE NOTEBOOK\n",
    "AT THIS POINT\"\"\"\n",
    "\n",
    "input = float(input())\n",
    "rounded_num = round(input)\n",
    "print(rounded_num)\n",
    "\n",
    "num = float(input())\n",
    "rounded_num = round(num)\n",
    "print(rounded_num)"
   ]
  },
  {
   "cell_type": "code",
   "execution_count": null,
   "id": "7778dca7",
   "metadata": {},
   "outputs": [],
   "source": [
    "\"\"\"Over-riding built-in functions:\n",
    "---------------------------------\n",
    "\n",
    "Before you run this cell,\n",
    "think about which line of code would \n",
    "generate an error, if any\n",
    "\n",
    "NOTE: YOU MAY WANT TO RESTART THE NOTEBOOK\n",
    "AT THIS POINT\"\"\"\n",
    "\n",
    "round = round(7.7)\n",
    "rounded = round(8.7)"
   ]
  },
  {
   "cell_type": "markdown",
   "id": "6c3af181",
   "metadata": {},
   "source": [
    "<hr/>"
   ]
  },
  {
   "cell_type": "markdown",
   "id": "a7987b9c",
   "metadata": {
    "slideshow": {
     "slide_type": "slide"
    }
   },
   "source": [
    "* A programming language is more than just a means for instructing a computer to perform tasks. \n",
    "\n",
    "\n",
    "* It also serves as a <u>**framework within which we organize our ideas**</u> about computational processes. \n",
    "\n",
    "\n",
    "* Programs serve to communicate those ideas among the members of a programming community. \n",
    "\n",
    "\n",
    "* Thus, let me re-emphasize **programs must be written for people to read, and only incidentally for machines to execute.**"
   ]
  },
  {
   "cell_type": "markdown",
   "id": "c4461039",
   "metadata": {},
   "source": [
    "<hr/>"
   ]
  }
 ],
 "metadata": {
  "celltoolbar": "Slideshow",
  "kernelspec": {
   "display_name": "Python 3 (ipykernel)",
   "language": "python",
   "name": "python3"
  },
  "language_info": {
   "codemirror_mode": {
    "name": "ipython",
    "version": 3
   },
   "file_extension": ".py",
   "mimetype": "text/x-python",
   "name": "python",
   "nbconvert_exporter": "python",
   "pygments_lexer": "ipython3",
   "version": "3.9.12"
  }
 },
 "nbformat": 4,
 "nbformat_minor": 5
}
