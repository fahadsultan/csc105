{
 "cells": [
  {
   "cell_type": "markdown",
   "id": "3008e2ce",
   "metadata": {
    "slideshow": {
     "slide_type": "slide"
    }
   },
   "source": [
    "<center><h1> PYTHON LECTURE 3 </h1></center>\n",
    "\n",
    "<hr/>"
   ]
  },
  {
   "cell_type": "markdown",
   "id": "b537411d",
   "metadata": {
    "slideshow": {
     "slide_type": "slide"
    }
   },
   "source": [
    "# Elements of Programming (From PL.1.)"
   ]
  },
  {
   "cell_type": "markdown",
   "id": "a7b076f6",
   "metadata": {
    "slideshow": {
     "slide_type": "-"
    }
   },
   "source": [
    "When we describe a language, we should pay particular attention to the means that the language provides for **combining simple ideas to form more complex ideas**. \n",
    "\n",
    "Every powerful programming language has three such mechanisms:\n",
    "\n",
    "1. **Primitive elements**, which represent the simplest building blocks that the language provides,\n",
    "\n",
    "\n",
    "2. **Means of combination**, by which compound _elements_ are built from simpler ones, and\n",
    "\n",
    "\n",
    "3. **Means of abstraction**, by which compound _elements_ can be named and manipulated as units.\n"
   ]
  },
  {
   "cell_type": "markdown",
   "id": "881e2278",
   "metadata": {},
   "source": [
    "<hr/>"
   ]
  },
  {
   "cell_type": "markdown",
   "id": "2a5e9a48",
   "metadata": {
    "slideshow": {
     "slide_type": "slide"
    }
   },
   "source": [
    "In programming, we deal with two kinds of elements: \n",
    "1. **Data**: stuff that we want to manipulate\n",
    "2. **Functions**: rules for manipulating the data\n",
    "\n",
    "_Functions are both elements as well as a means of abstraction. Later, we'll see that functions aren't all that different from Data_\n",
    "\n",
    "Thus, any powerful programming language should be able to describe:  \n",
    "* Primitive data and functions\n",
    "* Means of combining and abstracting both functions and data"
   ]
  },
  {
   "cell_type": "markdown",
   "id": "9922cd1b",
   "metadata": {},
   "source": [
    "<hr/>"
   ]
  },
  {
   "cell_type": "markdown",
   "id": "39339160",
   "metadata": {
    "slideshow": {
     "slide_type": "slide"
    }
   },
   "source": [
    "# Built-in Data Types (From PL.1.)"
   ]
  },
  {
   "cell_type": "markdown",
   "id": "5144783c",
   "metadata": {},
   "source": [
    "* Python comes with the following built-in data types:\n",
    "\n",
    "| Category || Python Data Types |\n",
    "| :----------- || -----------: |\n",
    "| Numeric Types:      || **`int`**, **`float`**, `complex` |\n",
    "| Boolean Type:      || **`bool`** |\n",
    "| Text Type:      || **`str`** |\n",
    "| Sequence Types: || `list`, `tuple`, `range` |\n",
    "| Mapping Type: || `dict`|\n",
    "| Set Types: || `set`, `frozenset`|\n",
    "| Binary Type: || `bytes`, `bytearray`, `memoryview`|\n",
    "| NoneType: || `Nonetype`|"
   ]
  },
  {
   "cell_type": "markdown",
   "id": "1e422f1f",
   "metadata": {
    "slideshow": {
     "slide_type": "slide"
    }
   },
   "source": [
    "* You can get the data type of any variable using the built-in **`type()`** function\n",
    "\n",
    "* Python programming language is both:\n",
    " 1. **Strongly typed**:\n",
    "       * All variables have a type \n",
    "       * The type matters when performing operations on a variable. \n",
    "\n",
    " 2. **Dynamically typed**:\n",
    "    * In Python, the data type is set when you assign a value to a variable (during runtime)."
   ]
  },
  {
   "cell_type": "code",
   "execution_count": null,
   "id": "03e0de8d",
   "metadata": {
    "slideshow": {
     "slide_type": "slide"
    }
   },
   "outputs": [],
   "source": [
    "#Strong typing\n",
    "\n",
    "a = 1 # int\n",
    "b = \"abc\" # str \n",
    "c = False # bool\n",
    "d = 1.0 # float\n",
    "print(type(a), a+a)\n",
    "print(type(b), b+b)\n",
    "print(type(c), c+c)\n",
    "print(type(d), d+d)"
   ]
  },
  {
   "cell_type": "code",
   "execution_count": null,
   "id": "b4209ee3",
   "metadata": {
    "slideshow": {
     "slide_type": "slide"
    }
   },
   "outputs": [],
   "source": [
    "# Dynamically typing\n",
    "\n",
    "a = 1 \n",
    "# print(type(a), a+a)\n",
    "a = \"abc\"\n",
    "# print(type(a), a+a)\n",
    "a = 3.14\n",
    "print(type(a), a+a)\n",
    "a = False\n",
    "print(type(a), a+a)\n",
    "b = 638\n",
    "c = \"False\" \n",
    "a = 1\n",
    "print(type(a), a+a)"
   ]
  },
  {
   "cell_type": "markdown",
   "id": "f0bc08ab",
   "metadata": {
    "slideshow": {
     "slide_type": "slide"
    }
   },
   "source": [
    "# Type Conversion and Type Casting \n",
    "\n",
    "\n"
   ]
  },
  {
   "cell_type": "markdown",
   "id": "3bb14364",
   "metadata": {},
   "source": [
    "**Type Conversion**: \n",
    "\n",
    "> The process of converting the value of one data type (integer, string, float, etc.) to another data type.\n",
    "\n",
    "Python has two types of type conversion:\n",
    "\n",
    "1. Implicit Type Conversion\n",
    "2. Explicit Type Conversion (also called Type Casting)"
   ]
  },
  {
   "cell_type": "markdown",
   "id": "25ddb4ae",
   "metadata": {
    "slideshow": {
     "slide_type": "slide"
    }
   },
   "source": [
    "## Implicit Type Conversion:\n",
    "\n",
    "> Automatic conversion from one data type to another data type as result of an operation.\n",
    "\n",
    "Python always converts _\"smaller\"_ data types to _\"larger\"_ data types to avoid the loss of information.\n"
   ]
  },
  {
   "cell_type": "code",
   "execution_count": null,
   "id": "1574d280",
   "metadata": {},
   "outputs": [],
   "source": [
    "integer_part = 21\n",
    "fractional_part = 0.03\n",
    "\n",
    "print(\"Datatype of integer_part:\", type(integer_part))\n",
    "print(\"Datatype of fractional_part:\", type(fractional_part))\n",
    "\n",
    "new_number = integer_part + fractional_part\n",
    "\n",
    "print(\"Value of new_number:\",new_number)\n",
    "print(\"Datatype of new_number:\",type(new_number))\n",
    "\n",
    "print(\"Datatype of integer_part:\", type(integer_part))"
   ]
  },
  {
   "cell_type": "code",
   "execution_count": null,
   "id": "d032d15b",
   "metadata": {
    "slideshow": {
     "slide_type": "slide"
    }
   },
   "outputs": [],
   "source": [
    "integer_part = 21\n",
    "fractional_part = \"0.03\"\n",
    "\n",
    "new_number = integer_part + fractional_part\n",
    "\n",
    "print(\"Datatype of integer_part:\", type(integer_part))\n",
    "print(\"Datatype of fractional_part:\", type(fractional_part))\n",
    "\n",
    "print(\"Value of new_number:\",new_number)\n",
    "print(\"Datatype of new_number:\",type(new_number))"
   ]
  },
  {
   "cell_type": "markdown",
   "id": "bdf356c2",
   "metadata": {
    "slideshow": {
     "slide_type": "slide"
    }
   },
   "source": [
    "## Explicit Type Conversion (a.k.a. Type Casting):\n",
    "\n",
    "Explicit conversion using one of the built-in functions: `int()`, `float()`, `str()`"
   ]
  },
  {
   "cell_type": "code",
   "execution_count": null,
   "id": "699894c4",
   "metadata": {
    "slideshow": {
     "slide_type": "-"
    }
   },
   "outputs": [],
   "source": [
    "integer_part = 21\n",
    "fractional_part = \"0.03\"\n",
    "\n",
    "print(\"Datatype of integer_part:\", type(integer_part))\n",
    "print(\"Data type of fractional_part before Type Casting:\",type(fractional_part))\n",
    "\n",
    "# new_number = integer_part + fractional_part\n",
    "\n",
    "fractional_part = float(fractional_part)\n",
    "\n",
    "print(\"Data type of fractional_part after Type Casting:\",type(fractional_part))\n",
    "\n",
    "new_number = integer_part + fractional_part\n",
    "\n",
    "print(\"Value of new_number:\",new_number)\n",
    "print(\"Datatype of new_number:\",type(new_number))"
   ]
  },
  {
   "cell_type": "markdown",
   "id": "130fc2f5",
   "metadata": {
    "slideshow": {
     "slide_type": "slide"
    }
   },
   "source": [
    "* You can not cast from any type to any other type  "
   ]
  },
  {
   "cell_type": "code",
   "execution_count": null,
   "id": "8691a50b",
   "metadata": {},
   "outputs": [],
   "source": [
    "int(\"1\")"
   ]
  },
  {
   "cell_type": "markdown",
   "id": "8c8f2ca5",
   "metadata": {},
   "source": [
    "* Casting from `int` to `float`: Assumes fractional part is .0"
   ]
  },
  {
   "cell_type": "code",
   "execution_count": null,
   "id": "0e39e22d",
   "metadata": {},
   "outputs": [],
   "source": [
    "float(21)"
   ]
  },
  {
   "cell_type": "markdown",
   "id": "c194c687",
   "metadata": {
    "slideshow": {
     "slide_type": "-"
    }
   },
   "source": [
    "* Casting from `float` to `int`: Truncates the fractional part (does not `round`) "
   ]
  },
  {
   "cell_type": "code",
   "execution_count": null,
   "id": "15b8fa84",
   "metadata": {},
   "outputs": [],
   "source": [
    "a = int(21.9)\n",
    "print(a)"
   ]
  },
  {
   "cell_type": "markdown",
   "id": "580c4bec",
   "metadata": {
    "slideshow": {
     "slide_type": "slide"
    }
   },
   "source": [
    "* Casting from `str` to `int`: \n",
    "    * Works if string contains **numeric letters** and/or **whitespace** ONLY\n",
    "    * Numeric letters MUST be contiguous (next to each other)"
   ]
  },
  {
   "cell_type": "code",
   "execution_count": null,
   "id": "c1e4ad29",
   "metadata": {},
   "outputs": [],
   "source": [
    "print(int(\"40\"))\n",
    "print(int(\"    40     \"))\n",
    "print(int(\"    40\"))\n",
    "print(int(\"4 0\"))"
   ]
  },
  {
   "cell_type": "markdown",
   "id": "a776a469",
   "metadata": {
    "slideshow": {
     "slide_type": "slide"
    }
   },
   "source": [
    "* Casting from `str` to `float`: \n",
    "    1. Works if string contains **numeric letters** and/or **whitespace** and/or **decimal point**\n",
    "    2. Assumes the fractional part is .0, _**iff**_ no decimal point "
   ]
  },
  {
   "cell_type": "code",
   "execution_count": null,
   "id": "3a06cd9e",
   "metadata": {},
   "outputs": [],
   "source": [
    "print(float(\"1.9457\"))\n",
    "# print(float(\"1\"))\n",
    "# print(int(\"1.9457\"))"
   ]
  },
  {
   "cell_type": "markdown",
   "id": "dd19ec9f",
   "metadata": {
    "slideshow": {
     "slide_type": "slide"
    }
   },
   "source": [
    "* Casting from `str` to `float`/`int`: \n",
    "\n",
    "    * You cannot have any operators in the string, when casting from `str` to `float` or `int`"
   ]
  },
  {
   "cell_type": "code",
   "execution_count": null,
   "id": "6192554c",
   "metadata": {},
   "outputs": [],
   "source": [
    "# print(int(\"2\"))\n",
    "print(int(\"2 + 2\"))\n",
    "# float(\"27.03 * 0.2\")"
   ]
  },
  {
   "cell_type": "markdown",
   "id": "9246a7c3",
   "metadata": {
    "slideshow": {
     "slide_type": "slide"
    }
   },
   "source": [
    "* Casting from `float`/`int` to `str`: \n",
    "\n",
    "* You can cast virtually anything to a String \n",
    "    * In other words, `str` would accept virtually anything as an input\n",
    "        * Even `'`s and `\"`s, if you _escape_ them i.e. put a `\\` before them"
   ]
  },
  {
   "cell_type": "code",
   "execution_count": null,
   "id": "f732d145",
   "metadata": {},
   "outputs": [],
   "source": [
    "str(\"ba\\/`'jf\\\"g2&#@(R4?<>[]23898\")\n",
    "\n",
    "str(\"1+1\\\"\\\" \")\n",
    "\n",
    "# str(\"a = a+a+2; False; True\")"
   ]
  },
  {
   "cell_type": "markdown",
   "id": "56011e1d",
   "metadata": {
    "slideshow": {
     "slide_type": "slide"
    }
   },
   "source": [
    "# Functions: Our first means of abstraction (From PL.2.)"
   ]
  },
  {
   "cell_type": "markdown",
   "id": "1ec5b77b",
   "metadata": {},
   "source": [
    "* Some useful built-in functions: \n",
    "    * `print(..)`\n",
    "    * `input(..)`\n",
    "    * `type(..)`\n",
    "    * `abs(..)`\n",
    "    * `round(..)`\n",
    "    * `help(..)`\n",
    "    "
   ]
  },
  {
   "cell_type": "code",
   "execution_count": null,
   "id": "d6214263",
   "metadata": {},
   "outputs": [],
   "source": [
    "cheque = float(input(\"How much was the cheque amount? \"))\n",
    "\n",
    "tip = 0.2 * cheque\n",
    "\n",
    "print(\"You should tip \", tip, \"for the given cheque amount\")"
   ]
  },
  {
   "cell_type": "markdown",
   "id": "a2a5a1a8",
   "metadata": {
    "slideshow": {
     "slide_type": "slide"
    }
   },
   "source": [
    "* Syntax: `output` = name_of_function **`(`** `input(s)` `) `"
   ]
  },
  {
   "cell_type": "code",
   "execution_count": null,
   "id": "a9bb109b",
   "metadata": {},
   "outputs": [],
   "source": [
    "help(abs)"
   ]
  },
  {
   "cell_type": "markdown",
   "id": "23718f7d",
   "metadata": {
    "slideshow": {
     "slide_type": "slide"
    }
   },
   "source": [
    "**Pure Functions** "
   ]
  },
  {
   "cell_type": "markdown",
   "id": "50d4b26c",
   "metadata": {},
   "source": [
    "A pure function takes inputs and returns outputs, <u>without</u> any **side effects**."
   ]
  },
  {
   "cell_type": "markdown",
   "id": "68ed7962",
   "metadata": {},
   "source": [
    "<img src=\"https://composingprograms.com/img/function_abs.png\">"
   ]
  },
  {
   "cell_type": "markdown",
   "id": "d51f99ea",
   "metadata": {
    "slideshow": {
     "slide_type": "slide"
    }
   },
   "source": [
    "**Impure Functions** "
   ]
  },
  {
   "cell_type": "markdown",
   "id": "f4183759",
   "metadata": {},
   "source": [
    "An impure function takes inputs and returns outputs, with one or more any **side effects**.\n",
    "\n",
    "* Printing a message on the display is an example of a side effect"
   ]
  },
  {
   "cell_type": "code",
   "execution_count": null,
   "id": "b4de543a",
   "metadata": {},
   "outputs": [],
   "source": [
    "x = print(\"Abc\")\n",
    "print(x)"
   ]
  },
  {
   "cell_type": "markdown",
   "id": "efc2db63",
   "metadata": {},
   "source": [
    "<img src=\"https://composingprograms.com/img/function_print.png\">"
   ]
  },
  {
   "cell_type": "markdown",
   "id": "865e1841",
   "metadata": {
    "slideshow": {
     "slide_type": "slide"
    }
   },
   "source": [
    "# Overriding built-in functions (From PL.2.)"
   ]
  },
  {
   "cell_type": "markdown",
   "id": "5b1e778f",
   "metadata": {},
   "source": [
    "What happens when we override `round`, `input` or `print`"
   ]
  },
  {
   "cell_type": "code",
   "execution_count": null,
   "id": "68d042a3",
   "metadata": {},
   "outputs": [],
   "source": [
    "abs(-123)\n",
    "\n",
    "abs = \"Abc\"\n",
    "\n",
    "abs(-123)"
   ]
  },
  {
   "cell_type": "code",
   "execution_count": null,
   "id": "dbb84787",
   "metadata": {},
   "outputs": [],
   "source": [
    "print(abs)"
   ]
  },
  {
   "cell_type": "code",
   "execution_count": null,
   "id": "34db23df",
   "metadata": {},
   "outputs": [],
   "source": [
    "\"\"\"Over-riding built-in functions:\n",
    "---------------------------------\n",
    "\n",
    "Before you run this cell,\n",
    "think about which line of code would \n",
    "generate an error, if any\n",
    "\n",
    "NOTE: YOU MAY WANT TO RESTART THE NOTEBOOK\n",
    "AT THIS POINT\"\"\"\n",
    "\n",
    "input = float(input())\n",
    "rounded_num = round(input)\n",
    "print(rounded_num)\n",
    "\n",
    "num = float(input())\n",
    "rounded_num = round(num)\n",
    "print(rounded_num)"
   ]
  },
  {
   "cell_type": "code",
   "execution_count": null,
   "id": "7778dca7",
   "metadata": {},
   "outputs": [],
   "source": [
    "\"\"\"Over-riding built-in functions:\n",
    "---------------------------------\n",
    "\n",
    "Before you run this cell,\n",
    "think about which line of code would \n",
    "generate an error, if any\n",
    "\n",
    "NOTE: YOU MAY WANT TO RESTART THE NOTEBOOK\n",
    "AT THIS POINT\"\"\"\n",
    "\n",
    "round = round(7.7)\n",
    "rounded = round(8.7)"
   ]
  },
  {
   "cell_type": "markdown",
   "id": "6c3af181",
   "metadata": {},
   "source": [
    "<hr/>"
   ]
  },
  {
   "cell_type": "code",
   "execution_count": null,
   "id": "e91dde44",
   "metadata": {},
   "outputs": [],
   "source": []
  },
  {
   "cell_type": "markdown",
   "id": "b41ad7df",
   "metadata": {
    "slideshow": {
     "slide_type": "slide"
    }
   },
   "source": [
    "# Functions as Black-Box Abstractions"
   ]
  },
  {
   "cell_type": "markdown",
   "id": "e8358bf0",
   "metadata": {},
   "source": [
    "* Implementation details are suppressed or abstracted \n",
    "\n",
    "\n",
    "* The _caller_ of the functions needs to only be concerned with the function's interface \n",
    "\n",
    "    * What input(s) it takes and what output(s) it returns\n",
    "<!-- <center> -->\n",
    " <img src=\"https://www.guru99.com/images/stories/blackbox.png\">\n",
    "<!-- </center> -->\n"
   ]
  },
  {
   "cell_type": "markdown",
   "id": "92666419",
   "metadata": {
    "slideshow": {
     "slide_type": "slide"
    }
   },
   "source": [
    "# Custom Functions\n",
    "\n",
    "So far, we've used the following Python **built-in** functions: `print(...)`, `type(...)` and `input(...)`"
   ]
  },
  {
   "cell_type": "code",
   "execution_count": null,
   "id": "916cc0e6",
   "metadata": {},
   "outputs": [],
   "source": [
    "print(\"Hello world\")\n",
    "print(type(4.5))"
   ]
  },
  {
   "cell_type": "markdown",
   "id": "4f753f98",
   "metadata": {
    "slideshow": {
     "slide_type": "slide"
    }
   },
   "source": [
    "and the following type-casting functions:  `int()`, `bool()`, `float()` etc. "
   ]
  },
  {
   "cell_type": "code",
   "execution_count": null,
   "id": "39fcc3a4",
   "metadata": {},
   "outputs": [],
   "source": [
    "print(int(3.14))\n",
    "print(bool(\"\"))\n",
    "print(float(4))"
   ]
  },
  {
   "cell_type": "markdown",
   "id": "30e6cc21",
   "metadata": {},
   "source": [
    "* Now, we’ll move on to exploring a set of new special words, statement and expressions in Python that allow us to create our own functions. "
   ]
  },
  {
   "cell_type": "markdown",
   "id": "ae42b47f",
   "metadata": {
    "slideshow": {
     "slide_type": "slide"
    }
   },
   "source": [
    "* A **Function**, simply put, groups a set of statements so they can be run more than once in a program\n",
    "\n",
    "    * A set of steps packaged so that you can invoke them with a name. \n",
    "\n",
    "* Functions, more often that not, accept **input(s)** and compute corresponding **output(s)**\n",
    "    * Note how inputs to `type(...)`, `round(...)` etc. may differ each time the code is run "
   ]
  },
  {
   "cell_type": "code",
   "execution_count": null,
   "id": "c32fbe70",
   "metadata": {},
   "outputs": [],
   "source": [
    "x = 4.3\n",
    "var = round(x)\n",
    "print(var)\n",
    "x = 5.4\n",
    "var = round(x)\n",
    "print(var)"
   ]
  },
  {
   "cell_type": "markdown",
   "id": "01d844c9",
   "metadata": {
    "slideshow": {
     "slide_type": "slide"
    }
   },
   "source": [
    "## Defining Functions\n",
    "\n",
    "The **definition** of a function starts with the `def` keyword in Python.\n",
    "\n",
    "The first line of a function definition starts with the header line.\n",
    "\n",
    "The header line specifies a **function name**, along with a list of **zero or more inputs** (called arguments aka parameters) that are comma-separated within parentheses.\n",
    "\n",
    "The general format is as follows:"
   ]
  },
  {
   "cell_type": "code",
   "execution_count": null,
   "id": "ffddc0ac",
   "metadata": {},
   "outputs": [],
   "source": [
    "def function_name(input1, input2,... inputN):\n",
    "    # body of \n",
    "    # the function\n",
    "    # goes here\n",
    "    \n",
    "    return output"
   ]
  },
  {
   "cell_type": "code",
   "execution_count": null,
   "id": "72cbb3b2",
   "metadata": {},
   "outputs": [],
   "source": [
    "#For example:\n",
    "def add_and_print_first_two_inputs(input1, input2):\n",
    "    # body of \n",
    "    # the function\n",
    "    # goes here\n",
    "    \n",
    "    print(input1 + input2)\n",
    "    \n",
    "\n",
    "add_and_print_first_two_inputs(2.2, 2.3)"
   ]
  },
  {
   "cell_type": "markdown",
   "id": "9040e6ec",
   "metadata": {
    "slideshow": {
     "slide_type": "-"
    }
   },
   "source": [
    "* The header line ends with a colon `:`\n",
    "* Followed by **indented** block of code that becomes the function's body\n",
    "    * Body of the function executes each time the function is **called**."
   ]
  },
  {
   "cell_type": "markdown",
   "id": "2400b7cd",
   "metadata": {
    "slideshow": {
     "slide_type": "slide"
    }
   },
   "source": [
    "Function bodies often contain a `return` statement:"
   ]
  },
  {
   "cell_type": "code",
   "execution_count": null,
   "id": "aa928809",
   "metadata": {},
   "outputs": [],
   "source": [
    "def name(arg1, arg2,... argN):\n",
    "    ...\n",
    "    return value"
   ]
  },
  {
   "cell_type": "markdown",
   "id": "f079de1c",
   "metadata": {},
   "source": [
    "* The Python `return` is followed by an variable, or an expression, that serves as the **output** of the function.\n",
    "\n",
    "    * `return` ends the function call and sends a result back to the caller. "
   ]
  },
  {
   "cell_type": "markdown",
   "id": "bfc95df6",
   "metadata": {
    "slideshow": {
     "slide_type": "slide"
    }
   },
   "source": [
    "## Calling a function\n",
    "\n",
    "There are two sides to the function picture:\n",
    "\n",
    "1. **Definition**: the `def` that **creates a function** and assigns it a _name_\n",
    "2. **Call**: an expression including the function's _name_ that tells Python to **run the function’s body**.\n",
    "    * After the def has run, you can call (run) the function in your program by adding parentheses after the function’s name.\n",
    "\n",
    "You must **define** the function **before calling it** "
   ]
  },
  {
   "cell_type": "code",
   "execution_count": null,
   "id": "429ecb3f",
   "metadata": {},
   "outputs": [],
   "source": [
    "print(round(1.63))\n",
    "print(round(1.3))"
   ]
  },
  {
   "cell_type": "code",
   "execution_count": null,
   "id": "27d83112",
   "metadata": {},
   "outputs": [],
   "source": [
    "print(round(2.6))\n",
    "print(round(2.3))\n",
    "print(round(3.4))"
   ]
  },
  {
   "cell_type": "markdown",
   "id": "b287812f",
   "metadata": {
    "slideshow": {
     "slide_type": "slide"
    }
   },
   "source": [
    "* Input(s) to a function are optional.\n",
    "* The return statement, that gives the function’s result, also is optional.\n",
    "    * If the value is omitted, return sends back a None."
   ]
  },
  {
   "cell_type": "code",
   "execution_count": null,
   "id": "645ed11f",
   "metadata": {},
   "outputs": [],
   "source": [
    "def print_hello_world():\n",
    "    print(\"Hello world\")\n",
    "    x = 1 + 1\n",
    "    \n",
    "print_hello_world()\n",
    "print_hello_world()\n",
    "\n",
    "return_val = print_hello_world()\n",
    "print(return_val) "
   ]
  },
  {
   "cell_type": "code",
   "execution_count": null,
   "id": "95f607f8",
   "metadata": {
    "slideshow": {
     "slide_type": "slide"
    }
   },
   "outputs": [],
   "source": [
    "def calculate_tips(number):\n",
    "\n",
    "print(\"Our round function:\")\n",
    "print(calculate_tips(2.6))\n",
    "print(calculate_tips(2.3))\n",
    "print(calculate_tips(3.4))"
   ]
  },
  {
   "cell_type": "code",
   "execution_count": null,
   "id": "c8e4af85",
   "metadata": {},
   "outputs": [],
   "source": [
    "def get_least_significant_digit(num):\n",
    "    digit = \n",
    "    return digit "
   ]
  },
  {
   "cell_type": "code",
   "execution_count": null,
   "id": "4fe22a1d",
   "metadata": {},
   "outputs": [],
   "source": [
    "def convert_to_24hrformat(exponent):\n",
    "\n",
    "    return number\n"
   ]
  }
 ],
 "metadata": {
  "kernelspec": {
   "display_name": "Python 3 (ipykernel)",
   "language": "python",
   "name": "python3"
  },
  "language_info": {
   "codemirror_mode": {
    "name": "ipython",
    "version": 3
   },
   "file_extension": ".py",
   "mimetype": "text/x-python",
   "name": "python",
   "nbconvert_exporter": "python",
   "pygments_lexer": "ipython3",
   "version": "3.9.12"
  }
 },
 "nbformat": 4,
 "nbformat_minor": 5
}
