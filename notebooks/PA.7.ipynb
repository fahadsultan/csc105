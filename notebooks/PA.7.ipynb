{
 "cells": [
  {
   "cell_type": "markdown",
   "id": "d3d89285",
   "metadata": {},
   "source": [
    "<center><h1>\n",
    "PROGRAMMING ASSIGNMENT 7\n",
    "</h1>\n",
    "<h1>\n",
    "CSC-105\n",
    "</h1>\n",
    "</center>\n",
    "<hr/>"
   ]
  },
  {
   "cell_type": "markdown",
   "id": "9e34c580",
   "metadata": {},
   "source": [
    "# Question 1. Zipper merge Strings"
   ]
  },
  {
   "cell_type": "markdown",
   "id": "02cd4566",
   "metadata": {},
   "source": [
    "Write a function that takes two strings `a` and `b`, of equal length, as input and merges the two in an alternating pattern i.e. one character from `a` followed by one character from `b`. \n",
    "\n",
    "For example, `a=\"abcd\"` and `b=\"efgh\"` should return `\"aebfcgdh\"`"
   ]
  },
  {
   "cell_type": "code",
   "execution_count": null,
   "id": "efd22193",
   "metadata": {},
   "outputs": [],
   "source": [
    "def zipper_merge(a, b):\n",
    "    \n",
    "    return merged\n",
    "\n",
    "assert zipper_merge(\"abcd\", \"efgh\")== \"aebfcgdh\", \"Test case 1 failed\"\n",
    "\n",
    "print(\"All test cases passed successfully\")"
   ]
  },
  {
   "cell_type": "markdown",
   "id": "0aba43f0",
   "metadata": {},
   "source": [
    "# Question 2. \n",
    "\n",
    "A **pangram** is a sentence where **every letter of the English alphabet** appears **at least once**.\n",
    "\n",
    "Given a string sentence containing only lowercase English letters, return `True` if sentence is a **pangram**, or `False` otherwise."
   ]
  },
  {
   "cell_type": "code",
   "execution_count": null,
   "id": "ca996154",
   "metadata": {},
   "outputs": [],
   "source": [
    "def pangram(sentence):\n",
    "    \n",
    "    return is_pangram"
   ]
  },
  {
   "cell_type": "code",
   "execution_count": null,
   "id": "3aff026b",
   "metadata": {},
   "outputs": [],
   "source": [
    "assert pangram(\"the quick brown fox jumps over the lazy dog\")              ==True, \"Test case 1 failed\"\n",
    "assert pangram(\"sixty zippers were quickly picked from the woven jute bag\")==True, \"Test case 2 failed\"\n",
    "assert pangram(\"two driven jocks help fax my big quiz.\")                   ==True, \"Test case 3 failed\"\n",
    "assert pangram(\"my girl wove six dozen plaid jackets before she quit.\")    ==True, \"Test case 4 failed\"\n",
    "assert pangram(\"Test case 5 failed\")                                       ==False, \"Test case 5 failed\"\n",
    "\n",
    "print(\"All test cases passed successfully\")"
   ]
  },
  {
   "cell_type": "markdown",
   "id": "12ce9afc",
   "metadata": {},
   "source": [
    "# Question 3. "
   ]
  },
  {
   "cell_type": "markdown",
   "id": "7a20bda1",
   "metadata": {},
   "source": [
    "You are given a string `s` and an integer array `indices` of the same length. The string `s` will be shuffled such that the character at the `ith` position moves to `indices[i]` in the shuffled string. Return the shuffled string.\n",
    "\n",
    "For example, `s = \"furman\"` and `indices = [5,4,3,2,1,0]`  should return `\"namruf\"`\n",
    "\n",
    "`s = \"algorithm\"` and `indices = [7, 0, 5, 4, 6, 1, 2, 3, 8]` should return `lithogram`"
   ]
  },
  {
   "cell_type": "code",
   "execution_count": null,
   "id": "870b951a",
   "metadata": {},
   "outputs": [],
   "source": [
    "def sort_by_index(s, indices):\n",
    "\n",
    "    return shuffled"
   ]
  },
  {
   "cell_type": "code",
   "execution_count": null,
   "id": "da26fd87",
   "metadata": {},
   "outputs": [],
   "source": [
    "assert sort_by_index(\"32415\", [2, 1, 3, 0, 4])     ==\"12345\",    \"Test case 1 failed\"\n",
    "assert sort_by_index(\"abcdef\", [3, 4, 5,0, 1, 2])  == \"defabc\",  \"Test case 2 failed\"\n",
    "assert sort_by_index(\"a\", [0])                     == \"a\",       \"Test case 3 failed\"\n",
    "assert sort_by_index(\"\", [])                       == \"\",        \"Test case 4 failed\"\n",
    "assert sort_by_index(\"@?><!$%\", [6,5,4,3,2,1,0])   == \"%$!<>?@\", \"Test case 5 failed\"\n",
    "\n",
    "print(\"All test cases passed successfully\")"
   ]
  },
  {
   "cell_type": "markdown",
   "id": "96e28a7d",
   "metadata": {},
   "source": [
    "# Question 4. "
   ]
  },
  {
   "cell_type": "markdown",
   "id": "fec7e7ab",
   "metadata": {},
   "source": [
    "Implement a function `csc121_split` that accepts a sentence `s` as an input and returns a list `words` of words in the sentence. \n",
    "\n",
    "For example, input `s = \"This is Question 9 of Lab 10\"` should return `[\"This\", \"is\", \"Question\", \"9\", \"of\", \"Lab\", \"10\"]`\n",
    "\n",
    "<span style=\"color:red\"><b>DO NOT USE THE BUILT-IN METHOD SPLIT</b></span>"
   ]
  },
  {
   "cell_type": "code",
   "execution_count": null,
   "id": "b6ddde02",
   "metadata": {},
   "outputs": [],
   "source": [
    "def csc121_split(s):\n",
    "    \n",
    "    return split_list"
   ]
  },
  {
   "cell_type": "code",
   "execution_count": null,
   "id": "83daab94",
   "metadata": {},
   "outputs": [],
   "source": [
    "assert csc121_split(\"This is Question 9 of Lab 10\")==[\"This\", \"is\", \"Question\", \"9\", \"of\", \"Lab\", \"10\"]\n",
    "\n",
    "print(\"All test cases passed successfully\")"
   ]
  },
  {
   "cell_type": "markdown",
   "id": "b3fe8f7f",
   "metadata": {},
   "source": [
    "# Question 5. "
   ]
  },
  {
   "cell_type": "markdown",
   "id": "6150e1a0",
   "metadata": {},
   "source": [
    "Implement a function `csc121_upper` that accepts a sentence `s` and makes every character from the english alphabet in `s` into upper case. \n",
    "\n",
    "For example, input `s=\"This is Question 4\"` should return `\"THIS IS QUESTION 4\"`\n",
    "\n",
    "<span style=\"color:red\"><b>DO NOT USE THE BUILT-IN METHOD UPPER</b></span>"
   ]
  },
  {
   "cell_type": "code",
   "execution_count": null,
   "id": "fbab171c",
   "metadata": {},
   "outputs": [],
   "source": [
    "def csc121_upper(s):\n",
    "    \n",
    "    return all_uppercase"
   ]
  },
  {
   "cell_type": "code",
   "execution_count": null,
   "id": "f9b7b0e4",
   "metadata": {},
   "outputs": [],
   "source": [
    "assert csc121_upper(\"Implement a function\") == \"IMPLEMENT A FUNCTION\",    \"Test case 1 failed\"\n",
    "assert csc121_upper(\"1234\")                 == \"1234\",   \"Test case 2 failed\"\n",
    "assert csc121_upper(\"\")                     == \"\",       \"Test case 3 failed\"\n",
    "assert csc121_upper(\"ABC\")                  == \"ABC\",    \"Test case 4 failed\"\n",
    "assert csc121_upper(\"a1\")                   == \"A1\",     \"Test case 5 failed\"\n",
    "\n",
    "print(\"All test cases passed successfully\")"
   ]
  },
  {
   "cell_type": "markdown",
   "id": "217e6def",
   "metadata": {},
   "source": [
    "# Question 6."
   ]
  },
  {
   "cell_type": "markdown",
   "id": "7236b4ad",
   "metadata": {},
   "source": [
    "Implement a function that counts the number of characters of `a` that are also present in `b`\n",
    "\n",
    "For example, `a=\"South\"`, `b=\"Carolina\"` should return `1`\n",
    "\n",
    "`a=\"Abc\"`, `b=\"AAbbcc\"` should return `3`\n",
    "\n",
    "Consider the single count for the character which have duplicates in the strings. "
   ]
  },
  {
   "cell_type": "code",
   "execution_count": null,
   "id": "8a737fb8",
   "metadata": {},
   "outputs": [],
   "source": [
    "def count_matches(a, b):\n",
    "    \n",
    "    return matches"
   ]
  },
  {
   "cell_type": "code",
   "execution_count": null,
   "id": "a0dbced9",
   "metadata": {},
   "outputs": [],
   "source": [
    "assert count_matches(\"South\", \"Carolina\")          == 1, \"Test case 1 failed\"\n",
    "assert count_matches(\"abcdef\", \"defghia\")          == 4, \"Test case 2 failed\"\n",
    "assert count_matches(\"aabcddekll12@\", \"bb22ll@55k\")== 6, \"Test case 3 failed\"\n",
    "assert count_matches(\"abc\", \"abc\")                 == 3, \"Test case 4 failed\"\n",
    "assert count_matches(\"abc\", \"def\")                 == 0, \"Test case 5 failed\"\n",
    "\n",
    "print(\"All test cases passed successfully\")"
   ]
  }
 ],
 "metadata": {
  "kernelspec": {
   "display_name": "Python 3 (ipykernel)",
   "language": "python",
   "name": "python3"
  },
  "language_info": {
   "codemirror_mode": {
    "name": "ipython",
    "version": 3
   },
   "file_extension": ".py",
   "mimetype": "text/x-python",
   "name": "python",
   "nbconvert_exporter": "python",
   "pygments_lexer": "ipython3",
   "version": "3.9.12"
  }
 },
 "nbformat": 4,
 "nbformat_minor": 5
}
