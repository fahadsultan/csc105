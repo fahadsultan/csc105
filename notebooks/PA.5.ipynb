{
 "cells": [
  {
   "cell_type": "markdown",
   "id": "39bba66c",
   "metadata": {},
   "source": [
    "<center>\n",
    "\n",
    "<h1>PROGRAMMING ASSIGNMENT 5</h1>\n",
    "<h1>CSC-105</h1>\n",
    "    \n",
    "</center>"
   ]
  },
  {
   "cell_type": "markdown",
   "id": "f020db6c",
   "metadata": {},
   "source": [
    "<hr/>"
   ]
  },
  {
   "cell_type": "markdown",
   "id": "9b40af64",
   "metadata": {},
   "source": [
    "## Q1. Prime numbers"
   ]
  },
  {
   "cell_type": "markdown",
   "id": "0e4b575d",
   "metadata": {},
   "source": [
    "Prime numbers are whole number greater than 1 that cannot be exactly divided by any whole number other than itself and 1. \n",
    "\n",
    "Write a function `is_prime` that takes in one input `num` and returns as output a boolean variable `prime` that is `True` if the given value of `num` is prime and `False` otherwise. "
   ]
  },
  {
   "cell_type": "code",
   "execution_count": null,
   "id": "331a818b",
   "metadata": {},
   "outputs": [],
   "source": [
    "def is_prime(num):\n",
    "    #Implement your logic here \n",
    "    \n",
    "    \n",
    "    \n",
    "    return prime"
   ]
  },
  {
   "cell_type": "code",
   "execution_count": null,
   "id": "f1bfee94",
   "metadata": {},
   "outputs": [],
   "source": [
    "assert is_prime(2)   == True,  \"Test case 1 failed\"\n",
    "assert is_prime(3)   == True,  \"Test case 2 failed\"\n",
    "assert is_prime(4)   == False, \"Test case 3 failed\"\n",
    "assert is_prime(5)   == True,  \"Test case 4 failed\"\n",
    "assert is_prime(9)   == False, \"Test case 5 failed\"\n",
    "assert is_prime(10)  == False, \"Test case 6 failed\"\n",
    "assert is_prime(11)  == True,  \"Test case 7 failed\"\n",
    "assert is_prime(12)  == False, \"Test case 8 failed\"\n",
    "assert is_prime(541) == True,  \"Test case 9 failed\"\n",
    "assert is_prime(550) == True,  \"Test case 10 failed\"\n",
    "\n",
    "print(\"All test cases passed successfully\")"
   ]
  },
  {
   "cell_type": "markdown",
   "id": "e90599a1",
   "metadata": {},
   "source": [
    "## Q2. Fibonacci numbers"
   ]
  },
  {
   "cell_type": "markdown",
   "id": "8a0332fa",
   "metadata": {},
   "source": [
    "The Fibonacci sequence starts 0, 1, 1, 2, 3, 5, 8, ... . \n",
    "\n",
    "<u>**Each number in the sequence (after the first two) is the sum of the previous two numbers**</u>; e.g., 8 + 5 = 13 is the next value. i.e. \n",
    "\n",
    "$F_{~0} = 0$\\\n",
    "$F_{~1} = 1$\n",
    "\n",
    "For all n > 1, \n",
    "\n",
    "$F_n = F_{n-1} + F_{n-2} $\n",
    "\n",
    "Write a function that computes and outputs the 𝑛th Fibonacci number. \n"
   ]
  },
  {
   "cell_type": "code",
   "execution_count": null,
   "id": "d40aa939",
   "metadata": {},
   "outputs": [],
   "source": [
    "def fibonacci(n):\n",
    "    #Implement your logic here \n",
    "    \n",
    "    \n",
    "    \n",
    "    return fn"
   ]
  },
  {
   "cell_type": "code",
   "execution_count": null,
   "id": "e03e58a6",
   "metadata": {},
   "outputs": [],
   "source": [
    "assert fibonacci(0)  == 0,  \"Test case 1 failed\"\n",
    "assert fibonacci(1)  == 1,  \"Test case 2 failed\"\n",
    "assert fibonacci(2)  == 1,  \"Test case 3 failed\"\n",
    "assert fibonacci(3)  == 2,  \"Test case 4 failed\"\n",
    "assert fibonacci(4)  == 3,  \"Test case 5 failed\"\n",
    "assert fibonacci(5)  == 5,  \"Test case 6 failed\"\n",
    "assert fibonacci(6)  == 8,  \"Test case 7 failed\"\n",
    "assert fibonacci(7)  == 13, \"Test case 8 failed\"\n",
    "assert fibonacci(8)  == 21, \"Test case 9 failed\"\n",
    "assert fibonacci(9)  == 34, \"Test case 10 failed\"\n",
    "assert fibonacci(10) == 55, \"Test case 11 failed\"\n",
    "\n",
    "print(\"All test cases passed successfully\")"
   ]
  },
  {
   "cell_type": "markdown",
   "id": "34c0d821",
   "metadata": {},
   "source": [
    "\n",
    "## Q3. Return on Investment\n",
    "\n",
    "Write a function time_to_double that uses a while loop to determine how much time it takes for an investment to double at a given interest rate.\n",
    "\n",
    "**Input(s):**\n",
    "\n",
    "1. annualized interest rate (interest_rate) in percentage\n",
    "2. Initial investment (investment) in USD.\n",
    "\n",
    "**Output(s):**\n",
    "\n",
    "1. number of years it takes the initial investment (investment) to double.\n",
    "\n",
    "2. Please note the amount of the initial investment does not matter; you can use $10."
   ]
  },
  {
   "cell_type": "code",
   "execution_count": null,
   "id": "6a17b608",
   "metadata": {},
   "outputs": [],
   "source": [
    "def time_to_double(interest_rate, investment):\n",
    "    #Implement your logic here \n",
    "    \n",
    "    \n",
    "    \n",
    "    return years"
   ]
  },
  {
   "cell_type": "code",
   "execution_count": null,
   "id": "c2b08b87",
   "metadata": {},
   "outputs": [],
   "source": [
    "assert time_to_double(5,   100)    == 15,  \"Test case 1 failed\"\n",
    "assert time_to_double(5,   10**10) == 15,  \"Test case 2 failed\"\n",
    "assert time_to_double(2,   100)    == 36,  \"Test case 3 failed\"\n",
    "assert time_to_double(0.1, 100)    == 694, \"Test case 4 failed\"\n",
    "assert time_to_double(1,   100)    == 70,  \"Test case 5 failed\"\n",
    "assert time_to_double(100, 100)    == 1,   \"Test case 6 failed\"\n",
    "\n",
    "print(\"All test cases passed successfully\")"
   ]
  },
  {
   "cell_type": "markdown",
   "id": "686e0688",
   "metadata": {},
   "source": [
    "## Q4.  N-th Prime number\n",
    "\n",
    "The first ten prime numbers are 2, 3, 5, 7, 11, 13, 17, 19, 23, 29. \n",
    "\n",
    "Write a function `nth_prime` that takes as input a number `n` $\\geq$ 1 and returns as output the $nth$ prime number. \n",
    "\n",
    "For example, \n",
    "\n",
    "`nth_prime(1)` should return `2` \\\n",
    "`nth_prime(3)` should return `5` \\\n",
    "`nth_prime(10)` should return `29`\n"
   ]
  },
  {
   "cell_type": "code",
   "execution_count": null,
   "id": "281ccd07",
   "metadata": {},
   "outputs": [],
   "source": [
    "def nth_prime(n):\n",
    "    #Implement your logic here \n",
    "    \n",
    "    \n",
    "    \n",
    "    return num"
   ]
  },
  {
   "cell_type": "code",
   "execution_count": null,
   "id": "6a1c05a5",
   "metadata": {},
   "outputs": [],
   "source": [
    "assert nth_prime(1)   == 2,   \"Test case 1 failed\"\n",
    "assert nth_prime(2)   == 3,   \"Test case 2 failed\"\n",
    "assert nth_prime(3)   == 5,   \"Test case 3 failed\"\n",
    "assert nth_prime(4)   == 7,   \"Test case 4 failed\"\n",
    "assert nth_prime(5)   == 11,  \"Test case 5 failed\"\n",
    "assert nth_prime(10)  == 29,  \"Test case 6 failed\"\n",
    "assert nth_prime(50)  == 229, \"Test case 7 failed\"\n",
    "assert nth_prime(100) == 541, \"Test case 8 failed\"\n",
    "\n",
    "print(\"All test cases passed successfully\")"
   ]
  }
 ],
 "metadata": {
  "kernelspec": {
   "display_name": "Python 3 (ipykernel)",
   "language": "python",
   "name": "python3"
  },
  "language_info": {
   "codemirror_mode": {
    "name": "ipython",
    "version": 3
   },
   "file_extension": ".py",
   "mimetype": "text/x-python",
   "name": "python",
   "nbconvert_exporter": "python",
   "pygments_lexer": "ipython3",
   "version": "3.9.12"
  }
 },
 "nbformat": 4,
 "nbformat_minor": 5
}
