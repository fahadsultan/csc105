{
 "cells": [
  {
   "cell_type": "markdown",
   "id": "ac8a9aeb",
   "metadata": {},
   "source": [
    "<h1><center>LAB 3</center></h1>"
   ]
  },
  {
   "cell_type": "markdown",
   "id": "8c85779c",
   "metadata": {},
   "source": [
    "# Q1. Convert to Decimal "
   ]
  },
  {
   "cell_type": "markdown",
   "id": "f185adac",
   "metadata": {},
   "source": [
    "**Given a <u><span style=\"color:red;\">4-digit number</u></span> in base b, convert it to decimal**. \n",
    "\n",
    "The number would be available to you in the form of 5 variables: one for each digit. "
   ]
  },
  {
   "cell_type": "markdown",
   "id": "47373029",
   "metadata": {},
   "source": [
    "<img width=\"80%\" src=\"https://raw.githubusercontent.com/fahadsultan/csc105/main/notebooks/imgs/to_decimal0.png\">\n",
    "<img  width=\"80%\" src=\"https://raw.githubusercontent.com/fahadsultan/csc105/main/notebooks/imgs/to_decimal1.png\">"
   ]
  },
  {
   "cell_type": "code",
   "execution_count": null,
   "id": "06fbc4f6",
   "metadata": {},
   "outputs": [],
   "source": [
    "print(\"Welcome to the decimal converter program.\\n\")\n",
    "base     = int(input('\\nWhat is the base of the number you want convered to decimal? '))\n",
    "ones     = int(input('Please enter the symbol in ones place '))\n",
    "tens     = int(input('Please enter the symbol in tens place '))\n",
    "hundreds = int(input('Please enter the symbol in hundreds place '))\n",
    "thousands= int(input('Please enter the symbol in thousands place '))\n",
    "\n",
    "\n",
    "print(\"The given number \", thousands, hundreds, tens, ones, \" in base \", \\\n",
    "      base, \" when converted to decimal is \", decimal, sep='')"
   ]
  },
  {
   "cell_type": "markdown",
   "id": "34b1871d",
   "metadata": {},
   "source": [
    "<hr />"
   ]
  },
  {
   "cell_type": "markdown",
   "id": "afbc2213",
   "metadata": {},
   "source": [
    "# Q2. Convert from Decimal to Base b\n",
    "\n",
    "**Given a <u><span style=\"color:red;\">positive decimal number < 16</u></span> , convert it to base b**. "
   ]
  },
  {
   "cell_type": "markdown",
   "id": "99ec8d23",
   "metadata": {},
   "source": [
    "<img width=\"80%\" src=\"https://raw.githubusercontent.com/fahadsultan/csc105/main/notebooks/imgs/to_baseb0.png\">\n",
    "<img width=\"80%\" src=\"https://raw.githubusercontent.com/fahadsultan/csc105/main/notebooks/imgs/to_baseb1.png\">\n",
    "\n"
   ]
  },
  {
   "cell_type": "code",
   "execution_count": null,
   "id": "02983b62",
   "metadata": {},
   "outputs": [],
   "source": [
    "print(\"Welcome to Base-b converter.\\n\\n\")\n",
    "\n",
    "decimal     = int(input(\"Please enter a positive decimal number less than 16: \"))\n",
    "\n",
    "base        = int(input(\"\\nWhat base do you want to convert %s to? \" % (decimal)))\n",
    "\n",
    "\n",
    "print(\"The given number \", decimal, \" in base \", base, \" is \", baseb_num)"
   ]
  },
  {
   "cell_type": "code",
   "execution_count": null,
   "id": "c5ffc9c8",
   "metadata": {},
   "outputs": [],
   "source": []
  }
 ],
 "metadata": {
  "kernelspec": {
   "display_name": "Python 3 (ipykernel)",
   "language": "python",
   "name": "python3"
  },
  "language_info": {
   "codemirror_mode": {
    "name": "ipython",
    "version": 3
   },
   "file_extension": ".py",
   "mimetype": "text/x-python",
   "name": "python",
   "nbconvert_exporter": "python",
   "pygments_lexer": "ipython3",
   "version": "3.9.12"
  }
 },
 "nbformat": 4,
 "nbformat_minor": 5
}
