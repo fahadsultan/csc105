{
 "cells": [
  {
   "cell_type": "markdown",
   "id": "3f7542a3",
   "metadata": {},
   "source": [
    "# Change-making problem"
   ]
  },
  {
   "cell_type": "markdown",
   "id": "49e071c7",
   "metadata": {},
   "source": [
    "Say you work at the cash register for a very successful takeout <u>cash only</u> restaurant.\n",
    "\n",
    "Your primary responsibility is to accept `cash` from customers and return `change` with respect to the `cheque_amount` the customer owes for the food they ordered. \n",
    "\n",
    "Since the restaurant you work at is very successful, <u>assume you have an infinite amount of all dollar denomination bills in the cash register at all times</u>. \n",
    "\n",
    "Also assume, the <u> `cheque_amount` is always rounded to the nearest dollar</u> and there are never any coins for you to deal with. \n",
    "\n",
    "You have to make change so many times a day that you've decided to automate the change-making process to make your life easier. \n",
    "\n",
    "<hr/>\n",
    "\n",
    "Implement the change-making problem in code. \n",
    "\n",
    "Given two **inputs**: \n",
    "\n",
    "1. `cheque_amount` (integer type)\n",
    "2. `cash` (integer type)\n",
    "\n",
    "such that  `cash` $\\geq$ `cheque_amount`, <b>calculate the number of bills of each dollar denomination you would need, <u><i>such that the total number of bills are minimized.</i></u></b>\n",
    "\n",
    "The dollar denominations you have at your disposal are: \\\\$1, \\\\$2, \\\\$5, \\\\$10, \\\\$50, \\\\$100. \n",
    "\n",
    "For any given set of inputs, your code should have the following **outputs**: \n",
    "\n",
    "1. `singles`: number of **\\\\$1** bills in the change given back to the customer\n",
    "2. `fives`:   number of **\\\\$5** bills given back to the customer\n",
    "3. `tens`: number of **\\\\$10** bills given back to the customer\n",
    "4. `fifties`: number of **\\\\$50** bills given back to the customer\n",
    "5. `hundreds`: number of **\\\\$100** bills given back to the customer\n",
    "6. `total_bills`: total number of bills needed to give back the change. \n",
    "\n",
    "Your output values should satisfy the following three conditions: \n",
    "\n",
    "1.  $singles  + fives + tens +  fifties + hundreds = total\\_bills $\n",
    "\n",
    "\n",
    "2. $(singles \\times 1) + (fives \\times 5) + (tens \\times 10) + (fifties \\times 50 ) + (hundreds \\times 100) = cash - cheque\\_amount $\n",
    "\n",
    "\n",
    "3. There exist no other values for `singles`, `fives`, `tens`, `fifties`, `hundreds` that add up to an integer $x$ such that \n",
    "    * $x \\lt$ `total_bills` and \n",
    "    * satisfy conditions 1 and 2."
   ]
  },
  {
   "cell_type": "code",
   "execution_count": null,
   "id": "7c050c1f",
   "metadata": {},
   "outputs": [],
   "source": [
    "cheque_amount = 27.03 \n",
    "cash = 100\n",
    "\n",
    "\n",
    "\n"
   ]
  }
 ],
 "metadata": {
  "kernelspec": {
   "display_name": "Python 3 (ipykernel)",
   "language": "python",
   "name": "python3"
  },
  "language_info": {
   "codemirror_mode": {
    "name": "ipython",
    "version": 3
   },
   "file_extension": ".py",
   "mimetype": "text/x-python",
   "name": "python",
   "nbconvert_exporter": "python",
   "pygments_lexer": "ipython3",
   "version": "3.9.12"
  }
 },
 "nbformat": 4,
 "nbformat_minor": 5
}
