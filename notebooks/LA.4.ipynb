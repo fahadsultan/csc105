{
 "cells": [
  {
   "cell_type": "markdown",
   "id": "f3b04448",
   "metadata": {},
   "source": [
    "# <center><b><span style=\"color:black\">LAB - 4</span></b></center>"
   ]
  },
  {
   "cell_type": "markdown",
   "id": "2eb40ed3",
   "metadata": {},
   "source": [
    "<hr/>"
   ]
  },
  {
   "cell_type": "markdown",
   "id": "0d55c884",
   "metadata": {},
   "source": [
    "# Q1. Implement a function that converts time from 12 hr. format to 24 hr. format\n",
    "\n",
    "**Define** a function `convert_to_24hr_format` with the following input(s) and output(s)\n",
    "\n",
    "**Input(s)**: \n",
    "\n",
    "1. `clock_12hrs_hrs` of type `int` representing hours in 12-hour time format. (_Constraints_: $1 \\leq $ `clock_12hrs_hrs` $\\leq 12$)\n",
    "\n",
    "\n",
    "2. `pm` of type `bool`; `True` indicates input time is PM and `False` means input hours is AM. (_Constraints:_  `pm` $ \\in$ {`True`, `False`})\n",
    "\n",
    "**Output(s)**:\n",
    "\n",
    "1. `clock_24_hrs_hrs` i.e. converted hours in 24-hour format time. \n",
    "\n",
    "\n",
    "**Below are given 24 test cases for all possible _valid inputs_ to the function. Make sure all test cases pass successfully (i.e. print `True`)**"
   ]
  },
  {
   "cell_type": "code",
   "execution_count": null,
   "id": "58f4b431",
   "metadata": {},
   "outputs": [],
   "source": [
    "# Define your function here\n",
    "\n"
   ]
  },
  {
   "cell_type": "markdown",
   "id": "359c454f",
   "metadata": {},
   "source": [
    "### Run the code cell below that tests your function"
   ]
  },
  {
   "cell_type": "code",
   "execution_count": null,
   "id": "8ae4a386",
   "metadata": {},
   "outputs": [],
   "source": [
    "# Test suite for Q1. \n",
    "\n",
    "print(\"Test case 1 passed: \",  convert_to_24hr_format(12, pm=False) == 0) # midnight\n",
    "print(\"Test case 2 passed: \",  convert_to_24hr_format(1,  pm=False) == 1)\n",
    "print(\"Test case 3 passed: \",  convert_to_24hr_format(2,  pm=False) == 2)\n",
    "print(\"Test case 4 passed: \",  convert_to_24hr_format(3,  pm=False) == 3)\n",
    "print(\"Test case 5 passed: \",  convert_to_24hr_format(4,  pm=False) == 4)\n",
    "print(\"Test case 6 passed: \",  convert_to_24hr_format(5,  pm=False) == 5)\n",
    "print(\"Test case 7 passed: \",  convert_to_24hr_format(6,  pm=False) == 6)\n",
    "print(\"Test case 8 passed: \",  convert_to_24hr_format(7,  pm=False) == 7)\n",
    "print(\"Test case 9 passed: \",  convert_to_24hr_format(8,  pm=False) == 8)\n",
    "print(\"Test case 10 passed: \", convert_to_24hr_format(9,  pm=False) == 9)\n",
    "print(\"Test case 11 passed: \", convert_to_24hr_format(10, pm=False) == 10)\n",
    "print(\"Test case 12 passed: \", convert_to_24hr_format(11, pm=False) == 11)\n",
    "print(\"Test case 13 passed: \", convert_to_24hr_format(12, pm=True)  == 12)  # noon\n",
    "print(\"Test case 14 passed: \", convert_to_24hr_format(1,  pm=True)  == 13)\n",
    "print(\"Test case 15 passed: \", convert_to_24hr_format(2,  pm=True)  == 14)\n",
    "print(\"Test case 16 passed: \", convert_to_24hr_format(3,  pm=True)  == 15)\n",
    "print(\"Test case 17 passed: \", convert_to_24hr_format(4,  pm=True)  == 16)\n",
    "print(\"Test case 18 passed: \", convert_to_24hr_format(5,  pm=True)  == 17)\n",
    "print(\"Test case 19 passed: \", convert_to_24hr_format(6,  pm=True)  == 18)\n",
    "print(\"Test case 20 passed: \", convert_to_24hr_format(7,  pm=True)  == 19)\n",
    "print(\"Test case 21 passed: \", convert_to_24hr_format(8,  pm=True)  == 20)\n",
    "print(\"Test case 22 passed: \", convert_to_24hr_format(9,  pm=True)  == 21)\n",
    "print(\"Test case 23 passed: \", convert_to_24hr_format(10, pm=True)  == 22)\n",
    "print(\"Test case 24 passed: \", convert_to_24hr_format(11, pm=True)  == 23)"
   ]
  },
  {
   "cell_type": "markdown",
   "id": "7a0f2fce",
   "metadata": {},
   "source": [
    "<hr />"
   ]
  },
  {
   "cell_type": "markdown",
   "id": "b95f52d4",
   "metadata": {},
   "source": [
    "# Q2. Given an integer $num$ such that $0 \\leq num \\leq 9999$, implement a function that reverses the digits of $num$\n",
    "\n",
    "**Define** a function `reverse_num` with the following input(s) and output(s)\n",
    "\n",
    "**Input(s)**: \n",
    "\n",
    "* `num` of type `int` such that  $0 \\leq n \\leq 9999$\n",
    "\n",
    "**Output(s)**:\n",
    "\n",
    "* `reversed` of type `int` with digits of `n` reversed\n",
    "\n",
    "\n",
    "| Example | Input      | Output |\n",
    "| -----------| ----------- | ----------- |\n",
    "| 1| `1234`      | `4321`       |\n",
    "| 2| `123`   | `321`        |\n",
    "| 3| `12`   | `21`        |\n",
    "| 4| `1230`   | `321`        |\n",
    "| 5| `1000`   | `1`        |\n",
    "     \n",
    "<b><u><i> Note that as with all and any variables of type `int`, there should and could be no leading zeros in the output (see examples 4 and 5 above). \n",
    "\n",
    "</u></i></b>\n",
    "<hr/>"
   ]
  },
  {
   "cell_type": "code",
   "execution_count": null,
   "id": "1dfddfa0",
   "metadata": {},
   "outputs": [],
   "source": [
    "# Define your function here\n",
    "\n"
   ]
  },
  {
   "cell_type": "code",
   "execution_count": null,
   "id": "7ac83b61",
   "metadata": {},
   "outputs": [],
   "source": [
    "# Test suite for Q2. \n",
    "\n",
    "print(\"Test case 1 passed: \",  reverse_num(1234) == 4321) \n",
    "print(\"Test case 2 passed: \",  reverse_num(123)  == 321) \n",
    "print(\"Test case 3 passed: \",  reverse_num(12)   == 21) \n",
    "print(\"Test case 4 passed: \",  reverse_num(1230) == 321) \n",
    "print(\"Test case 5 passed: \",  reverse_num(1000) == 1) \n"
   ]
  },
  {
   "cell_type": "markdown",
   "id": "08ac0d9d",
   "metadata": {},
   "source": [
    "\n",
    "# **Q3. Check if a number $num$ is a _Palindrome_**\n",
    "    \n",
    "<u>_**A palindromic number is a number (such as 16461) that remains the same when its digits are reversed.**_</u>\n",
    "\n",
    "**Define** a function `is_palindrome` with the following input(s) and output(s)\n",
    "\n",
    "**Input(s)**: \n",
    "\n",
    "* `num` of type `int` such that  $0 \\leq n \\leq 9999$\n",
    "\n",
    "**Output(s)**:\n",
    "\n",
    "* `palindrome` of type `bool` - True if `num` is a palindrome and `False` otherwise\n",
    "\n",
    "\n",
    "\n",
    "| Example | Input      | Output |\n",
    "| -----------| ----------- | ----------- |\n",
    "| 1| `1234`      | `False`       |\n",
    "| 2| `121`   | `True`        |\n",
    "| 3| `11`   | `True`        |\n",
    "| 4| `12`   | `False`        |\n",
    "| 5| `1`   | `True`        |\n",
    "     \n",
    "\n",
    "\n",
    "\n",
    "<hr/>\n"
   ]
  },
  {
   "cell_type": "code",
   "execution_count": null,
   "id": "3e7dc0a4",
   "metadata": {},
   "outputs": [],
   "source": [
    "# Define your function here\n",
    "\n",
    "\n"
   ]
  },
  {
   "cell_type": "code",
   "execution_count": null,
   "id": "72d2eb0d",
   "metadata": {},
   "outputs": [],
   "source": [
    "# Test suite for Q3. \n",
    "\n",
    "print(\"Test case 1 passed: \",  is_palindrome(1234) == False) \n",
    "print(\"Test case 2 passed: \",  is_palindrome(121)  == True) \n",
    "print(\"Test case 3 passed: \",  is_palindrome(11)   == True) \n",
    "print(\"Test case 4 passed: \",  is_palindrome(12)   == False) \n",
    "print(\"Test case 5 passed: \",  is_palindrome(1)    == True) \n"
   ]
  },
  {
   "cell_type": "markdown",
   "id": "5d5b4c52",
   "metadata": {},
   "source": [
    "  \n",
    "# **Q4. Sum the digits of the $num$**\n",
    "\n",
    "**Define** a function `sum_digits` with the following input(s) and output(s)\n",
    "\n",
    "**Input(s)**: \n",
    "\n",
    "* `num` of type `int` such that  $0 \\leq n \\leq 9999$\n",
    "\n",
    "**Output(s)**:\n",
    "\n",
    "* `sum_digits` of type `int` such that it is the sum of digits of `num`\n",
    "\n",
    "\n",
    "| Example | Input      | Output | Explanation\n",
    "| -----------| ----------- | ----------- |----------- |\n",
    "| 1| `1234`      | `10`       |   1 + 2 + 3 + 4 = 10    |\n",
    "| 2| `1000`   | `1`        |    1 + 0 + 0 + 0 = 1   |\n",
    "| 3| `19`   | `10`        |     1 + 9 = 10  |\n",
    "| 4| `12`   | `3`        |    1 + 2 = 3   |\n",
    "| 5| `1`   | `1`        | 1 = 1      |\n",
    "     \n",
    "\n",
    "<hr />\n",
    "\n"
   ]
  },
  {
   "cell_type": "code",
   "execution_count": null,
   "id": "fbb21331",
   "metadata": {},
   "outputs": [],
   "source": [
    "\n",
    "\n"
   ]
  },
  {
   "cell_type": "code",
   "execution_count": null,
   "id": "c8d51a30",
   "metadata": {},
   "outputs": [],
   "source": [
    "# Test suite for Q4. \n",
    "\n",
    "print(\"Test case 1 passed: \",  sum_digits(1234) == 10) \n",
    "print(\"Test case 2 passed: \",  sum_digits(1000)  == 1) \n",
    "print(\"Test case 3 passed: \",  sum_digits(19)   == 10) \n",
    "print(\"Test case 4 passed: \",  sum_digits(12)   == 3) \n",
    "print(\"Test case 5 passed: \",  sum_digits(1)    == 1) "
   ]
  }
 ],
 "metadata": {
  "kernelspec": {
   "display_name": "Python 3 (ipykernel)",
   "language": "python",
   "name": "python3"
  },
  "language_info": {
   "codemirror_mode": {
    "name": "ipython",
    "version": 3
   },
   "file_extension": ".py",
   "mimetype": "text/x-python",
   "name": "python",
   "nbconvert_exporter": "python",
   "pygments_lexer": "ipython3",
   "version": "3.9.12"
  }
 },
 "nbformat": 4,
 "nbformat_minor": 5
}
