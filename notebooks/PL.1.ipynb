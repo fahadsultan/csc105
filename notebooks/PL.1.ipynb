{
 "cells": [
  {
   "cell_type": "markdown",
   "id": "bbaccea4",
   "metadata": {
    "slideshow": {
     "slide_type": "slide"
    }
   },
   "source": [
    "<center> <h1>PYTHON LECTURE 1</h1> </center>"
   ]
  },
  {
   "cell_type": "markdown",
   "id": "b2660275",
   "metadata": {},
   "source": [
    "<hr/>"
   ]
  },
  {
   "cell_type": "markdown",
   "id": "a30551e4",
   "metadata": {
    "slideshow": {
     "slide_type": "slide"
    }
   },
   "source": [
    "<img src=\"https://raw.githubusercontent.com/fahadsultan/csc105/main/notebooks/imgs/pl.1.1.png\">"
   ]
  },
  {
   "cell_type": "markdown",
   "id": "c7d6dd5c",
   "metadata": {},
   "source": [
    "<hr/>"
   ]
  },
  {
   "cell_type": "markdown",
   "id": "b537411d",
   "metadata": {
    "slideshow": {
     "slide_type": "slide"
    }
   },
   "source": [
    "## 1.1. Elements of Programming"
   ]
  },
  {
   "cell_type": "markdown",
   "id": "a7b076f6",
   "metadata": {
    "slideshow": {
     "slide_type": "-"
    }
   },
   "source": [
    "When we describe a language, we should pay particular attention to the means that the language provides for **combining simple ideas to form more complex ideas**. \n",
    "\n",
    "Every powerful programming language has three such mechanisms:\n",
    "\n",
    "1. **Primitive elements**, which represent the simplest building blocks that the language provides,\n",
    "\n",
    "\n",
    "2. **Means of combination**, by which compound _elements_ are built from simpler ones, and\n",
    "\n",
    "\n",
    "3. **Means of abstraction**, by which compound _elements_ can be named and manipulated as units.\n"
   ]
  },
  {
   "cell_type": "markdown",
   "id": "881e2278",
   "metadata": {},
   "source": [
    "<hr/>"
   ]
  },
  {
   "cell_type": "markdown",
   "id": "2a5e9a48",
   "metadata": {
    "slideshow": {
     "slide_type": "slide"
    }
   },
   "source": [
    "In programming, we deal with two kinds of elements: \n",
    "1. **Data**: stuff that we want to manipulate\n",
    "2. **Functions**: rules for manipulating the data\n",
    "\n",
    "_Functions are both elements as well as a means of abstraction. Later, we'll see that functions aren't all that different from Data_\n",
    "\n",
    "Thus, any powerful programming language should be able to describe:  \n",
    "* Primitive data and functions\n",
    "* Means of combining and abstracting both functions and data"
   ]
  },
  {
   "cell_type": "markdown",
   "id": "9d5304e2",
   "metadata": {},
   "source": [
    "<hr/>"
   ]
  },
  {
   "cell_type": "markdown",
   "id": "fb34fce0",
   "metadata": {
    "slideshow": {
     "slide_type": "slide"
    }
   },
   "source": [
    "# 1.2. Spot the Data and Function(s)\n",
    "<center><img width = \"90%\" src=\"https://raw.githubusercontent.com/fahadsultan/csc105/main/notebooks/imgs/pl.1.2.png\"></center>\n",
    "\n"
   ]
  },
  {
   "cell_type": "markdown",
   "id": "37231cbd",
   "metadata": {},
   "source": [
    "<hr/>"
   ]
  },
  {
   "cell_type": "markdown",
   "id": "f3dda787",
   "metadata": {
    "slideshow": {
     "slide_type": "slide"
    }
   },
   "source": [
    "# 1.3. Values and Data Types"
   ]
  },
  {
   "cell_type": "markdown",
   "id": "ecfd710d",
   "metadata": {
    "slideshow": {
     "slide_type": "-"
    }
   },
   "source": [
    "* The atomic unit of data is a **value** e.g. `1`, `10`, `\"furman\"`, `True` etc. \n",
    "\n",
    "* Each value belongs to a **data type**. \n",
    "\n",
    "Python has the following primitive data types: \n",
    "\n",
    "\n",
    "| Data types  | Description | Category |    \n",
    "| ----------- | ----------- | ----------- |\n",
    "| `int`      | Integers| Numeric Type | \n",
    "| `float`  | Floating Points <br/>(Numbers with fractional part; <br/> think real numbers) | Numeric Type|\n",
    "| `complex` |  Complex number with real and imaginary parts | Numeric Type | \n",
    "| `str`   |  String data: alphanumeric text<br/>or other symbols |Text Type |\n",
    "| `bool`   |  Boolean data: either True or False |Boolean Type |\n",
    "| `bytes`   | Numbers in binary (base 2) system |Binary Type |\n"
   ]
  },
  {
   "cell_type": "markdown",
   "id": "98bd4b83",
   "metadata": {},
   "source": [
    "<hr/>"
   ]
  },
  {
   "cell_type": "markdown",
   "id": "85b34066",
   "metadata": {
    "slideshow": {
     "slide_type": "slide"
    }
   },
   "source": [
    "## Identify Data Types\n",
    "\n",
    "<center><img width = \"90%\" src=\"https://raw.githubusercontent.com/fahadsultan/csc105/main/notebooks/imgs/pl.1.2.png\"></center>"
   ]
  },
  {
   "cell_type": "markdown",
   "id": "8d73ed79",
   "metadata": {},
   "source": [
    "<hr/>"
   ]
  },
  {
   "cell_type": "markdown",
   "id": "6ecd0e11",
   "metadata": {
    "slideshow": {
     "slide_type": "slide"
    }
   },
   "source": [
    "# 1.5. Manipulating Data: Mathematical Operators"
   ]
  },
  {
   "cell_type": "markdown",
   "id": "7e341978",
   "metadata": {
    "slideshow": {
     "slide_type": "-"
    }
   },
   "source": [
    "These mathematical expressions use infix notation, where the operator (e.g., +, -, *, or /) appears in between the operands (numbers). \n",
    "\n",
    "| Operator      | Description   |Example.      |\n",
    "| :-----------  | :-----------: |:-----------: |\n",
    "| + Addition    |  Adds values on either side of the operator.  | 20 + 10 = 30|\n",
    "| - Subtraction |  Subtracts right hand operand from left hand operand.  | 20 – 10 = -10|\n",
    "| * Multiplication |  Multiplies values on either side of the operator  | 20 * 10  = 200|\n",
    "| / Division |  Divides left hand operand by right hand operand  | 20 / 10 = 2|\n",
    "| ** Exponent |  Performs exponential (power) calculation on operators  | 10 ** 20 = $10^{20}$|\n",
    "| % Modulus |  Divides left hand operand by right hand operand and returns remainder  | 20 % 10 = 0|\n",
    "| // Floor Division |  The division of operands where the result is the quotient |  9 // 2 = 4 |"
   ]
  },
  {
   "cell_type": "code",
   "execution_count": null,
   "id": "b9b263ea",
   "metadata": {
    "slideshow": {
     "slide_type": "slide"
    }
   },
   "outputs": [],
   "source": [
    "11 % 5"
   ]
  },
  {
   "cell_type": "code",
   "execution_count": null,
   "id": "ce961b37",
   "metadata": {},
   "outputs": [],
   "source": [
    "5 % 11"
   ]
  },
  {
   "cell_type": "code",
   "execution_count": null,
   "id": "fcaa2437",
   "metadata": {},
   "outputs": [],
   "source": [
    "11 // 5"
   ]
  },
  {
   "cell_type": "code",
   "execution_count": null,
   "id": "74d726d9",
   "metadata": {},
   "outputs": [],
   "source": [
    "5 // 11"
   ]
  },
  {
   "cell_type": "code",
   "execution_count": null,
   "id": "66ec87e2",
   "metadata": {},
   "outputs": [],
   "source": [
    "2 ** -1"
   ]
  },
  {
   "cell_type": "markdown",
   "id": "4f40cc40",
   "metadata": {},
   "source": [
    "<hr/>"
   ]
  },
  {
   "cell_type": "markdown",
   "id": "e830d74e",
   "metadata": {
    "slideshow": {
     "slide_type": "slide"
    }
   },
   "source": [
    "# 1.6. Let's start implementing the Jane Doe algorithm"
   ]
  },
  {
   "cell_type": "markdown",
   "id": "7705ecc3",
   "metadata": {},
   "source": [
    "1. Move the decimal point to the left"
   ]
  },
  {
   "cell_type": "code",
   "execution_count": null,
   "id": "335f09aa",
   "metadata": {
    "slideshow": {
     "slide_type": "-"
    }
   },
   "outputs": [],
   "source": [
    "27.03 / 10 "
   ]
  },
  {
   "cell_type": "markdown",
   "id": "8c32b0e2",
   "metadata": {},
   "source": [
    "2. Round the number from step, 1"
   ]
  },
  {
   "cell_type": "code",
   "execution_count": null,
   "id": "21c02888",
   "metadata": {},
   "outputs": [],
   "source": [
    "2.703 // 1"
   ]
  },
  {
   "cell_type": "markdown",
   "id": "3d61002f",
   "metadata": {},
   "source": [
    "3. Double the number from step 2"
   ]
  },
  {
   "cell_type": "code",
   "execution_count": null,
   "id": "49b643dc",
   "metadata": {},
   "outputs": [],
   "source": [
    "2.0 * 2"
   ]
  },
  {
   "cell_type": "markdown",
   "id": "3a5cf7c0",
   "metadata": {},
   "source": [
    "<hr/>"
   ]
  },
  {
   "cell_type": "markdown",
   "id": "2b0f2899",
   "metadata": {
    "slideshow": {
     "slide_type": "slide"
    }
   },
   "source": [
    "# 1.7. Expressions, Variables and Statements"
   ]
  },
  {
   "cell_type": "markdown",
   "id": "f5feb7b2",
   "metadata": {},
   "source": [
    "* Each line of code above is an **expression**\n",
    "\n",
    "* All expressions **evaluate to a value** \n",
    "\n",
    "    * On their own, they are inconsequential. \n",
    "    \n",
    "* A **variable** is a name that refers to a value. \n",
    "\n",
    "* Values are _assigned_ to variables using the **assignment operator** `=`\n",
    "\n",
    "* The assignment operator, `=`, should not be confused with an equals sign (even though it uses the same character)."
   ]
  },
  {
   "cell_type": "markdown",
   "id": "6ece043a",
   "metadata": {
    "slideshow": {
     "slide_type": "slide"
    }
   },
   "source": [
    "* The assignment is made from **right to left**\n",
    "    * The operand on the right is often a value or an expression \n",
    "    * The operand on the left is often a variable"
   ]
  },
  {
   "cell_type": "code",
   "execution_count": 60,
   "id": "24a11fa1",
   "metadata": {},
   "outputs": [
    {
     "data": {
      "text/plain": [
       "'/Users/fsultan/Downloads/csc105/notebooks'"
      ]
     },
     "execution_count": 60,
     "metadata": {},
     "output_type": "execute_result"
    }
   ],
   "source": [
    "pwd"
   ]
  },
  {
   "cell_type": "code",
   "execution_count": null,
   "id": "b0748c6e",
   "metadata": {
    "slideshow": {
     "slide_type": "-"
    }
   },
   "outputs": [],
   "source": [
    "ten_percent = 27.03 / 10"
   ]
  },
  {
   "cell_type": "code",
   "execution_count": null,
   "id": "1ba7a1f4",
   "metadata": {},
   "outputs": [],
   "source": [
    "ten_percent"
   ]
  },
  {
   "cell_type": "code",
   "execution_count": null,
   "id": "5037650e",
   "metadata": {},
   "outputs": [],
   "source": [
    "# 27.03 / 10 = ten_percent"
   ]
  },
  {
   "cell_type": "markdown",
   "id": "8acde66e",
   "metadata": {},
   "source": [
    "\n",
    "* Variables can be assigned different values in the course of executing a program. \n",
    "\n",
    "    * When a name is bound to a new value through assignment, it is no longer bound to any previous value.\n",
    "    \n",
    "* The line of code above is a **statement**, specifically an assignment statement\n",
    "\n",
    "* Informally, an expression _is_ something and a statement _does_ something \n",
    "\n",
    "    "
   ]
  },
  {
   "cell_type": "markdown",
   "id": "9ecef063",
   "metadata": {},
   "source": [
    "<hr/>"
   ]
  },
  {
   "cell_type": "markdown",
   "id": "efd1f5ea",
   "metadata": {
    "slideshow": {
     "slide_type": "slide"
    }
   },
   "source": [
    "# 1.8. Let's finish implementing the Jane Doe algorithm"
   ]
  },
  {
   "cell_type": "markdown",
   "id": "08c2ea50",
   "metadata": {},
   "source": [
    "1. Move the decimal point to the left"
   ]
  },
  {
   "cell_type": "code",
   "execution_count": null,
   "id": "51720c7b",
   "metadata": {
    "slideshow": {
     "slide_type": "-"
    }
   },
   "outputs": [],
   "source": [
    "cheque = 27.03 \n",
    "ten_percent = cheque / 10"
   ]
  },
  {
   "cell_type": "markdown",
   "id": "fcbbdc12",
   "metadata": {},
   "source": [
    "2. Round the number from step, 1"
   ]
  },
  {
   "cell_type": "code",
   "execution_count": 46,
   "id": "a4caabce",
   "metadata": {},
   "outputs": [
    {
     "data": {
      "text/plain": [
       "2.7030000000000003"
      ]
     },
     "execution_count": 46,
     "metadata": {},
     "output_type": "execute_result"
    }
   ],
   "source": [
    "twenty_percent"
   ]
  },
  {
   "cell_type": "code",
   "execution_count": null,
   "id": "ca366e82",
   "metadata": {},
   "outputs": [],
   "source": [
    "rounded_down_ten_percent =  ten_percent // 1"
   ]
  },
  {
   "cell_type": "markdown",
   "id": "3a93fdd3",
   "metadata": {},
   "source": [
    "3. Double the number from step 2"
   ]
  },
  {
   "cell_type": "code",
   "execution_count": 34,
   "id": "a13750ec",
   "metadata": {},
   "outputs": [
    {
     "data": {
      "text/plain": [
       "2.7030000000000003"
      ]
     },
     "execution_count": 34,
     "metadata": {},
     "output_type": "execute_result"
    }
   ],
   "source": [
    "ten_percent"
   ]
  },
  {
   "cell_type": "code",
   "execution_count": 39,
   "id": "c01622e2",
   "metadata": {},
   "outputs": [
    {
     "data": {
      "text/plain": [
       "2.0"
      ]
     },
     "execution_count": 39,
     "metadata": {},
     "output_type": "execute_result"
    }
   ],
   "source": [
    "ten_percent // 1"
   ]
  },
  {
   "cell_type": "code",
   "execution_count": null,
   "id": "23c283bb",
   "metadata": {},
   "outputs": [],
   "source": [
    "tip = rounded_down_ten_percent * 2"
   ]
  },
  {
   "cell_type": "code",
   "execution_count": 41,
   "id": "57158e50",
   "metadata": {},
   "outputs": [
    {
     "data": {
      "text/plain": [
       "2.0"
      ]
     },
     "execution_count": 41,
     "metadata": {},
     "output_type": "execute_result"
    }
   ],
   "source": [
    "rounded_down_ten_percent"
   ]
  },
  {
   "cell_type": "markdown",
   "id": "db012842",
   "metadata": {},
   "source": [
    "<hr/>"
   ]
  },
  {
   "cell_type": "markdown",
   "id": "947a3b96",
   "metadata": {
    "slideshow": {
     "slide_type": "slide"
    }
   },
   "source": [
    "# 1.9. Variable Names\n",
    "\n",
    "\n",
    "* _**Variable Names must be descriptive!**_\n",
    "\n",
    "* A variable name **must start with a letter or the underscore character**\n",
    "\n",
    "* A variable name **cannot start with a number**\n",
    "\n",
    "* A variable name can **only contain alpha-numeric characters and underscores** (`A-z`, `0-9`, and `_` )\n",
    "\n",
    "* Variable names are **case-sensitive** (age, Age and AGE are three different variables)\n",
    "\n",
    "* In Python, the convention is to **_NOT_ use upper case letters** anywhere in the name. In case of multi-word names, use `_` .\n"
   ]
  },
  {
   "cell_type": "code",
   "execution_count": 44,
   "id": "bae5d173",
   "metadata": {},
   "outputs": [
    {
     "data": {
      "text/plain": [
       "4.0"
      ]
     },
     "execution_count": 44,
     "metadata": {},
     "output_type": "execute_result"
    }
   ],
   "source": [
    "tip"
   ]
  },
  {
   "cell_type": "code",
   "execution_count": null,
   "id": "e87cc2ca",
   "metadata": {
    "slideshow": {
     "slide_type": "slide"
    }
   },
   "outputs": [],
   "source": [
    "ten_percent = 3\n",
    "ten_percent"
   ]
  },
  {
   "cell_type": "code",
   "execution_count": null,
   "id": "1cb1cbfe",
   "metadata": {},
   "outputs": [],
   "source": [
    "Ten_percent = 10 # bad convention\n",
    "Ten_percent"
   ]
  },
  {
   "cell_type": "code",
   "execution_count": null,
   "id": "7954542d",
   "metadata": {},
   "outputs": [],
   "source": [
    "TEN_PERCENT = 10000\n",
    "TEN_PERCENT"
   ]
  },
  {
   "cell_type": "code",
   "execution_count": null,
   "id": "2233f6bb",
   "metadata": {},
   "outputs": [],
   "source": [
    "ten_percent = 5\n",
    "ten_percent"
   ]
  },
  {
   "cell_type": "code",
   "execution_count": null,
   "id": "0e7462ec",
   "metadata": {},
   "outputs": [],
   "source": [
    "age = 2\n",
    "age"
   ]
  },
  {
   "cell_type": "code",
   "execution_count": null,
   "id": "a15b23ff",
   "metadata": {},
   "outputs": [],
   "source": [
    "Age = 20\n",
    "Age"
   ]
  },
  {
   "cell_type": "code",
   "execution_count": null,
   "id": "f1439255",
   "metadata": {},
   "outputs": [],
   "source": [
    "AGE = 200\n",
    "AGE"
   ]
  },
  {
   "cell_type": "markdown",
   "id": "b14b3c59",
   "metadata": {
    "slideshow": {
     "slide_type": "slide"
    }
   },
   "source": [
    "Which of the following variable names would throw a Syntax Errox?"
   ]
  },
  {
   "cell_type": "code",
   "execution_count": null,
   "id": "ea25ab59",
   "metadata": {
    "scrolled": true
   },
   "outputs": [],
   "source": [
    "10_percent = 27.03 / 10"
   ]
  },
  {
   "cell_type": "code",
   "execution_count": null,
   "id": "bdf59aec",
   "metadata": {},
   "outputs": [],
   "source": [
    "ten_percent = 27.03 / 10\n",
    "ten_percent"
   ]
  },
  {
   "cell_type": "code",
   "execution_count": null,
   "id": "e2e64cb3",
   "metadata": {},
   "outputs": [],
   "source": [
    "_10_percent = 27.03 / 10\n",
    "_10_percent"
   ]
  },
  {
   "cell_type": "code",
   "execution_count": null,
   "id": "687c25d1",
   "metadata": {},
   "outputs": [],
   "source": [
    "20_percent = 27.03 / 10"
   ]
  },
  {
   "cell_type": "code",
   "execution_count": null,
   "id": "48fe4941",
   "metadata": {},
   "outputs": [],
   "source": [
    "twenty_percent = 27.03 / 10"
   ]
  },
  {
   "cell_type": "code",
   "execution_count": null,
   "id": "26ad6711",
   "metadata": {
    "slideshow": {
     "slide_type": "-"
    }
   },
   "outputs": [],
   "source": [
    "twenty_% = 27.03 / 10"
   ]
  },
  {
   "cell_type": "markdown",
   "id": "b4339d52",
   "metadata": {},
   "source": [
    "<hr/>"
   ]
  },
  {
   "cell_type": "markdown",
   "id": "3cae626e",
   "metadata": {},
   "source": [
    "<hr/>"
   ]
  }
 ],
 "metadata": {
  "kernelspec": {
   "display_name": "Python 3 (ipykernel)",
   "language": "python",
   "name": "python3"
  },
  "language_info": {
   "codemirror_mode": {
    "name": "ipython",
    "version": 3
   },
   "file_extension": ".py",
   "mimetype": "text/x-python",
   "name": "python",
   "nbconvert_exporter": "python",
   "pygments_lexer": "ipython3",
   "version": "3.9.12"
  }
 },
 "nbformat": 4,
 "nbformat_minor": 5
}
