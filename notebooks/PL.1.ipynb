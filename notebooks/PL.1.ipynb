{
 "cells": [
  {
   "cell_type": "markdown",
   "id": "bbaccea4",
   "metadata": {
    "slideshow": {
     "slide_type": "slide"
    }
   },
   "source": [
    "<center> <h1>PYTHON LECTURE 1</h1> </center>"
   ]
  },
  {
   "cell_type": "markdown",
   "id": "61aa23b6",
   "metadata": {},
   "source": [
    "<hr/>"
   ]
  },
  {
   "cell_type": "markdown",
   "id": "719895d2",
   "metadata": {
    "slideshow": {
     "slide_type": "slide"
    }
   },
   "source": [
    "<img src=\"imgs/pl.1.1.png\">"
   ]
  },
  {
   "cell_type": "markdown",
   "id": "64c2cb7e",
   "metadata": {},
   "source": [
    "<hr/>"
   ]
  },
  {
   "cell_type": "markdown",
   "id": "415f39c2",
   "metadata": {
    "slideshow": {
     "slide_type": "slide"
    }
   },
   "source": [
    "## 1.1. Elements of Programming"
   ]
  },
  {
   "cell_type": "markdown",
   "id": "85160428",
   "metadata": {
    "slideshow": {
     "slide_type": "-"
    }
   },
   "source": [
    "When we describe a language, we should pay particular attention to the means that the language provides for **combining simple ideas to form more complex ideas**. \n",
    "\n",
    "Every powerful programming language has three such mechanisms:\n",
    "\n",
    "1. **Primitive elements**, which represent the simplest building blocks that the language provides,\n",
    "\n",
    "\n",
    "2. **Means of combination**, by which compound _elements_ are built from simpler ones, and\n",
    "\n",
    "\n",
    "3. **Means of abstraction**, by which compound _elements_ can be named and manipulated as units.\n"
   ]
  },
  {
   "cell_type": "markdown",
   "id": "881e2278",
   "metadata": {},
   "source": [
    "<hr/>"
   ]
  },
  {
   "cell_type": "markdown",
   "id": "a6f0b13e",
   "metadata": {
    "slideshow": {
     "slide_type": "slide"
    }
   },
   "source": [
    "In programming, we deal with two kinds of elements: \n",
    "1. **Data**: stuff that we want to manipulate\n",
    "2. **Functions**: rules for manipulating the data\n",
    "\n",
    "_Functions are both elements as well as a means of abstraction._\n",
    "\n",
    "Thus, any powerful programming language should be able to describe:  \n",
    "* Primitive data and functions\n",
    "* Means of combining and abstracting both functions and data"
   ]
  },
  {
   "cell_type": "markdown",
   "id": "6a1132c8",
   "metadata": {},
   "source": [
    "<hr/>"
   ]
  },
  {
   "cell_type": "markdown",
   "id": "685c1439",
   "metadata": {
    "slideshow": {
     "slide_type": "slide"
    }
   },
   "source": [
    "# 1.2. Spot the Data and Function(s)\n",
    "<center><img width = \"90%\" src=\"imgs/pl.1.2.png\"></center>"
   ]
  },
  {
   "cell_type": "markdown",
   "id": "51d5de8a",
   "metadata": {},
   "source": [
    "<hr/>"
   ]
  },
  {
   "cell_type": "markdown",
   "id": "6027566e",
   "metadata": {
    "slideshow": {
     "slide_type": "slide"
    }
   },
   "source": [
    "# 1.3. Values and Data Types"
   ]
  },
  {
   "cell_type": "markdown",
   "id": "da3fa15d",
   "metadata": {
    "slideshow": {
     "slide_type": "-"
    }
   },
   "source": [
    "* The atomic unit of data is a **value** e.g. `1`, `10`, `\"furman\"`, `True` etc. \n",
    "\n",
    "* Each value belongs to a **data type**. \n",
    "\n",
    "Python has the following primitive data types: \n",
    "\n",
    "\n",
    "| Data types  | Description | Category |    \n",
    "| ----------- | ----------- | ----------- |\n",
    "| `int`      | Integers| Numeric Type | \n",
    "| `float`  | Floating Points <br/>(Numbers with fractional part; <br/> think real numbers) | Numeric Type|\n",
    "| `complex` |  Complex number with real and imaginary parts | Numeric Type | \n",
    "| `str`   |  String data: alphanumeric text<br/>or other symbols |Text Type |\n",
    "| `bool`   |  Boolean data: either True or False |Boolean Type |\n",
    "| `bytes`   | Numbers in binary (base 2) system |Binary Type |\n"
   ]
  },
  {
   "cell_type": "markdown",
   "id": "e7851998",
   "metadata": {},
   "source": [
    "<hr/>"
   ]
  },
  {
   "cell_type": "markdown",
   "id": "a8566e6d",
   "metadata": {
    "slideshow": {
     "slide_type": "slide"
    }
   },
   "source": [
    "## Identify Data Types\n",
    "\n",
    "<center><img width = \"90%\" src=\"imgs/pl.1.2.png\"></center>"
   ]
  },
  {
   "cell_type": "markdown",
   "id": "146168b2",
   "metadata": {},
   "source": [
    "<hr/>"
   ]
  },
  {
   "cell_type": "markdown",
   "id": "6ecd0e11",
   "metadata": {
    "slideshow": {
     "slide_type": "slide"
    }
   },
   "source": [
    "# 1.5. Manipulating Data: Mathematical Operators"
   ]
  },
  {
   "cell_type": "markdown",
   "id": "7e341978",
   "metadata": {
    "slideshow": {
     "slide_type": "-"
    }
   },
   "source": [
    "These mathematical expressions use infix notation, where the operator (e.g., +, -, *, or /) appears in between the operands (numbers). \n",
    "\n",
    "| Operator      | Description   |Example.      |\n",
    "| :-----------  | :-----------: |:-----------: |\n",
    "| + Addition    |  Adds values on either side of the operator.  | 20 + 10 = 30|\n",
    "| - Subtraction |  Subtracts right hand operand from left hand operand.  | 20 – 10 = -10|\n",
    "| * Multiplication |  Multiplies values on either side of the operator  | 20 * 10  = 200|\n",
    "| / Division |  Divides left hand operand by right hand operand  | 20 / 10 = 2|\n",
    "| ** Exponent |  Performs exponential (power) calculation on operators  | 10 ** 20 = $10^{20}$|\n",
    "| % Modulus |  Divides left hand operand by right hand operand and returns remainder  | 20 % 10 = 0|\n",
    "| // Floor Division |  The division of operands where the result is the quotient |  9 // 2 = 4 |"
   ]
  },
  {
   "cell_type": "code",
   "execution_count": null,
   "id": "bd487508",
   "metadata": {
    "slideshow": {
     "slide_type": "slide"
    }
   },
   "outputs": [],
   "source": [
    "11 % 5"
   ]
  },
  {
   "cell_type": "code",
   "execution_count": null,
   "id": "701de720",
   "metadata": {},
   "outputs": [],
   "source": [
    "5 % 11"
   ]
  },
  {
   "cell_type": "code",
   "execution_count": null,
   "id": "82fe0f22",
   "metadata": {},
   "outputs": [],
   "source": [
    "11 // 5"
   ]
  },
  {
   "cell_type": "code",
   "execution_count": null,
   "id": "a69f84f8",
   "metadata": {},
   "outputs": [],
   "source": [
    "5 // 11"
   ]
  },
  {
   "cell_type": "code",
   "execution_count": null,
   "id": "971e6ccd",
   "metadata": {},
   "outputs": [],
   "source": [
    "2 ** -1"
   ]
  },
  {
   "cell_type": "markdown",
   "id": "0456bd6a",
   "metadata": {},
   "source": [
    "<hr/>"
   ]
  },
  {
   "cell_type": "markdown",
   "id": "3dc3baa5",
   "metadata": {
    "slideshow": {
     "slide_type": "slide"
    }
   },
   "source": [
    "# 1.6. Let's start implementing the Jane Doe algorithm"
   ]
  },
  {
   "cell_type": "markdown",
   "id": "84fc495a",
   "metadata": {},
   "source": [
    "1. Move the decimal point to the left"
   ]
  },
  {
   "cell_type": "code",
   "execution_count": null,
   "id": "1430e16f",
   "metadata": {
    "slideshow": {
     "slide_type": "-"
    }
   },
   "outputs": [],
   "source": []
  },
  {
   "cell_type": "markdown",
   "id": "4b40419e",
   "metadata": {},
   "source": [
    "2. Round the number from step, 1"
   ]
  },
  {
   "cell_type": "code",
   "execution_count": null,
   "id": "f3ecf73f",
   "metadata": {},
   "outputs": [],
   "source": []
  },
  {
   "cell_type": "markdown",
   "id": "443d0e23",
   "metadata": {},
   "source": [
    "3. Double the number from step 2"
   ]
  },
  {
   "cell_type": "code",
   "execution_count": null,
   "id": "cc877fd8",
   "metadata": {},
   "outputs": [],
   "source": []
  },
  {
   "cell_type": "markdown",
   "id": "63256702",
   "metadata": {},
   "source": [
    "<hr/>"
   ]
  },
  {
   "cell_type": "markdown",
   "id": "947ee42d",
   "metadata": {
    "slideshow": {
     "slide_type": "slide"
    }
   },
   "source": [
    "# 1.7. Expressions, Variables and Statements"
   ]
  },
  {
   "cell_type": "markdown",
   "id": "cc1e4d75",
   "metadata": {},
   "source": [
    "* Each line of code above is an **expression**\n",
    "\n",
    "* All expressions **evaluate to a value** \n",
    "\n",
    "    * On their own, they are inconsequential. \n",
    "    \n",
    "* A **variable** is a name that refers to a value. \n",
    "\n",
    "* Values are _assigned_ to variables using the **assignment operator** `=`\n",
    "\n",
    "* The assignment operator, `=`, should not be confused with an equals sign (even though it uses the same character)."
   ]
  },
  {
   "cell_type": "markdown",
   "id": "5127dca0",
   "metadata": {
    "slideshow": {
     "slide_type": "slide"
    }
   },
   "source": [
    "* The assignment is made from **right to left**\n",
    "    * The operand on the right is often a value or an expression \n",
    "    * The operand on the left is often a variable"
   ]
  },
  {
   "cell_type": "code",
   "execution_count": null,
   "id": "3c028307",
   "metadata": {
    "slideshow": {
     "slide_type": "-"
    }
   },
   "outputs": [],
   "source": [
    "ten_percent = 27.03 / 10"
   ]
  },
  {
   "cell_type": "code",
   "execution_count": null,
   "id": "ae216b35",
   "metadata": {},
   "outputs": [],
   "source": [
    "27.03 / 10 = ten_percent"
   ]
  },
  {
   "cell_type": "markdown",
   "id": "44967afb",
   "metadata": {},
   "source": [
    "\n",
    "* Variables can be assigned different values in the course of executing a program. \n",
    "\n",
    "    * When a name is bound to a new value through assignment, it is no longer bound to any previous value.\n",
    "    \n",
    "* The line of code above is a **statement**, specifically an assignment statement\n",
    "\n",
    "* Informally, an express _is_ something and a statement _does_ something \n",
    "\n",
    "    "
   ]
  },
  {
   "cell_type": "markdown",
   "id": "165386fb",
   "metadata": {},
   "source": [
    "<hr/>"
   ]
  },
  {
   "cell_type": "markdown",
   "id": "3e54850e",
   "metadata": {
    "slideshow": {
     "slide_type": "slide"
    }
   },
   "source": [
    "# 1.8. Let's finish implementing the Jane Doe algorithm"
   ]
  },
  {
   "cell_type": "markdown",
   "id": "cba6d498",
   "metadata": {},
   "source": [
    "1. Move the decimal point to the left"
   ]
  },
  {
   "cell_type": "code",
   "execution_count": null,
   "id": "19e043be",
   "metadata": {
    "slideshow": {
     "slide_type": "-"
    }
   },
   "outputs": [],
   "source": []
  },
  {
   "cell_type": "markdown",
   "id": "841ed533",
   "metadata": {},
   "source": [
    "2. Round the number from step, 1"
   ]
  },
  {
   "cell_type": "code",
   "execution_count": null,
   "id": "8cd3c512",
   "metadata": {},
   "outputs": [],
   "source": []
  },
  {
   "cell_type": "markdown",
   "id": "56ce5ac8",
   "metadata": {},
   "source": [
    "3. Double the number from step 2"
   ]
  },
  {
   "cell_type": "code",
   "execution_count": null,
   "id": "d2a77687",
   "metadata": {},
   "outputs": [],
   "source": []
  },
  {
   "cell_type": "markdown",
   "id": "2e5c3c95",
   "metadata": {},
   "source": [
    "<hr/>"
   ]
  },
  {
   "cell_type": "markdown",
   "id": "947a3b96",
   "metadata": {
    "slideshow": {
     "slide_type": "slide"
    }
   },
   "source": [
    "# 1.9. Variable Names\n",
    "\n",
    "\n",
    "* _**Variable Names must be descriptive!**_\n",
    "\n",
    "* A variable name **must start with a letter or the underscore character**\n",
    "\n",
    "* A variable name **cannot start with a number**\n",
    "\n",
    "* A variable name can **only contain alpha-numeric characters and underscores** (`A-z`, `0-9`, and `_` )\n",
    "\n",
    "* Variable names are **case-sensitive** (age, Age and AGE are three different variables)\n",
    "\n",
    "* In Python, the convention is to **_NOT_ use upper case letters** anywhere in the name. In case of multi-word names, use `_` .\n"
   ]
  },
  {
   "cell_type": "code",
   "execution_count": null,
   "id": "72ab823c",
   "metadata": {
    "slideshow": {
     "slide_type": "slide"
    }
   },
   "outputs": [],
   "source": [
    "ten_percent = 3\n",
    "ten_percent"
   ]
  },
  {
   "cell_type": "code",
   "execution_count": null,
   "id": "e1cef9ee",
   "metadata": {},
   "outputs": [],
   "source": [
    "Ten_percent = 10\n",
    "Ten_percent"
   ]
  },
  {
   "cell_type": "code",
   "execution_count": null,
   "id": "93af7f8c",
   "metadata": {},
   "outputs": [],
   "source": [
    "TEN_PERCENT = 10000\n",
    "TEN_PERCENT"
   ]
  },
  {
   "cell_type": "code",
   "execution_count": null,
   "id": "2fcd23df",
   "metadata": {},
   "outputs": [],
   "source": [
    "ten_percent = 5\n",
    "ten_percent"
   ]
  },
  {
   "cell_type": "code",
   "execution_count": null,
   "id": "caa920b9",
   "metadata": {},
   "outputs": [],
   "source": [
    "age = 2\n",
    "age"
   ]
  },
  {
   "cell_type": "code",
   "execution_count": null,
   "id": "c29a5fdb",
   "metadata": {},
   "outputs": [],
   "source": [
    "Age = 20\n",
    "Age"
   ]
  },
  {
   "cell_type": "code",
   "execution_count": null,
   "id": "e50606bd",
   "metadata": {},
   "outputs": [],
   "source": [
    "AGE = 200\n",
    "AGE"
   ]
  },
  {
   "cell_type": "markdown",
   "id": "57190111",
   "metadata": {
    "slideshow": {
     "slide_type": "slide"
    }
   },
   "source": [
    "Which of the following variable names would throw a Syntax Errox?"
   ]
  },
  {
   "cell_type": "code",
   "execution_count": null,
   "id": "fda08492",
   "metadata": {},
   "outputs": [],
   "source": [
    "10_percent = 27.03 / 10"
   ]
  },
  {
   "cell_type": "code",
   "execution_count": null,
   "id": "c6ad803c",
   "metadata": {},
   "outputs": [],
   "source": [
    "ten_percent = 27.03 / 10"
   ]
  },
  {
   "cell_type": "code",
   "execution_count": null,
   "id": "e4f34c1d",
   "metadata": {},
   "outputs": [],
   "source": [
    "_10_percent = 27.03 / 10"
   ]
  },
  {
   "cell_type": "code",
   "execution_count": null,
   "id": "2b300225",
   "metadata": {},
   "outputs": [],
   "source": [
    "20_percent = 27.03 / 10"
   ]
  },
  {
   "cell_type": "code",
   "execution_count": null,
   "id": "37e174b4",
   "metadata": {},
   "outputs": [],
   "source": [
    "twenty_percent = 27.03 / 10"
   ]
  },
  {
   "cell_type": "code",
   "execution_count": null,
   "id": "26ad6711",
   "metadata": {
    "slideshow": {
     "slide_type": "-"
    }
   },
   "outputs": [],
   "source": [
    "twenty_% = 27.03 / 10"
   ]
  },
  {
   "cell_type": "markdown",
   "id": "985a7445",
   "metadata": {},
   "source": [
    "<hr/>"
   ]
  },
  {
   "cell_type": "markdown",
   "id": "141213c7",
   "metadata": {
    "slideshow": {
     "slide_type": "slide"
    }
   },
   "source": [
    "# 1.10. Reserved words Python"
   ]
  },
  {
   "cell_type": "markdown",
   "id": "6566b223",
   "metadata": {},
   "source": [
    "`False`, `def`, `if`, `raise`,\n",
    "`None`,\t`del`,\t`import`,\t`return`,\n",
    "`True`,\t`elif`\t,`in`,\t`try`,\n",
    "`and`,\t`else`,\t`is`,\t`while`,\n",
    "`as`,\t`except`,\t`lambda`, `with`\n",
    "`assert`,\t`finally`,\t`nonlocal`,\t`yield`\n",
    "`break`,\t`for`,\t`not`\t\n",
    "`class`,\t`from`,\t`or`,\t\n",
    "`continue`,\t`global`,\t`pass`"
   ]
  },
  {
   "cell_type": "code",
   "execution_count": null,
   "id": "8d7b0377",
   "metadata": {},
   "outputs": [],
   "source": [
    "\"\"\"Reserved words in Python\n",
    "---------------------------\n",
    "\n",
    "Before you run this cell, \n",
    "think about which outputs would \n",
    "generate a Syntax Error\n",
    "\"\"\"\n",
    "\n",
    "False = 2\n",
    "false = 2\n",
    "while = 10\n",
    "_while = 10"
   ]
  },
  {
   "cell_type": "markdown",
   "id": "541c9ffa",
   "metadata": {},
   "source": [
    "<hr/>"
   ]
  },
  {
   "cell_type": "markdown",
   "id": "4c2a022f",
   "metadata": {
    "slideshow": {
     "slide_type": "slide"
    }
   },
   "source": [
    "# 1.11. Operator Precedence"
   ]
  },
  {
   "cell_type": "markdown",
   "id": "acfcb04c",
   "metadata": {},
   "source": [
    "* Expressions evaluate as per rules of precdence\n",
    "\n",
    "* For operators with equal precedence, the evaluation takes place **left to right**\n",
    "\n",
    "* Operator Precedence in decreasing order in table below: \n",
    "\n",
    "    * The higher the operator in the table, the higher its priority"
   ]
  },
  {
   "cell_type": "markdown",
   "id": "d87d1fc8",
   "metadata": {},
   "source": [
    "| Syntax      || Description |\n",
    "| :----------- || -----------: |\n",
    "| ()      || Parentheses |\n",
    "| **      || Exponent    |\n",
    "| *,  /,  //,  % || Multiplication, Division, Floor division, Modulus|\n",
    "| +, - || Addition, Subtraction|\n",
    "|==, !=, >, >=, <, <= || Equal, Not Equal, Less Than, Less Than Equal, Greater Than, Greater Than Equal ||"
   ]
  },
  {
   "cell_type": "code",
   "execution_count": null,
   "id": "80d05650",
   "metadata": {
    "slideshow": {
     "slide_type": "slide"
    }
   },
   "outputs": [],
   "source": [
    "1+1+1+1+1*0"
   ]
  },
  {
   "cell_type": "code",
   "execution_count": null,
   "id": "c70a6da0",
   "metadata": {},
   "outputs": [],
   "source": [
    "9**1/2"
   ]
  },
  {
   "cell_type": "code",
   "execution_count": null,
   "id": "583164e6",
   "metadata": {},
   "outputs": [],
   "source": [
    "100/10/10"
   ]
  },
  {
   "cell_type": "code",
   "execution_count": null,
   "id": "7020f16b",
   "metadata": {},
   "outputs": [],
   "source": [
    "100/(10/10)"
   ]
  },
  {
   "cell_type": "code",
   "execution_count": null,
   "id": "aef515b1",
   "metadata": {},
   "outputs": [],
   "source": [
    "10 + 10 / 10"
   ]
  },
  {
   "cell_type": "code",
   "execution_count": null,
   "id": "2b1b5b1a",
   "metadata": {},
   "outputs": [],
   "source": [
    "(2+2)**1/2"
   ]
  },
  {
   "cell_type": "code",
   "execution_count": null,
   "id": "163c78dc",
   "metadata": {},
   "outputs": [],
   "source": [
    "36**1/2"
   ]
  },
  {
   "cell_type": "markdown",
   "id": "3568926a",
   "metadata": {},
   "source": [
    "<hr/>"
   ]
  },
  {
   "cell_type": "markdown",
   "id": "3d69bdb9",
   "metadata": {
    "slideshow": {
     "slide_type": "slide"
    }
   },
   "source": [
    "# 1.12. Flow / Directionality of Execution \n",
    "\n",
    "1. Program runs each line of code **top to bottom**\n",
    "\n",
    "\n",
    "2. Assignment operators run **right to left**\n",
    "    \n",
    "    * Right hand side of assignment operator `=` is executed first and the value is assigned to variable on the left hand side\n",
    "    \n",
    "\n",
    "3. Expressions run as per rules of precedence. For operators of equal precedence, expressions run **left to right**. \n"
   ]
  },
  {
   "cell_type": "markdown",
   "id": "f89260d7",
   "metadata": {},
   "source": [
    "<hr/>"
   ]
  },
  {
   "cell_type": "markdown",
   "id": "93b3e5dd",
   "metadata": {
    "slideshow": {
     "slide_type": "slide"
    }
   },
   "source": [
    "# 1.12. Python Comments\n",
    "\n",
    "Old programming wisdom:\n",
    "> Programs must be written for people to read, and only incidentally for machines to execute.\n",
    "\n",
    "\n",
    "* Comments in code are _literally_ there only for people to read and **never** for machines to execute\n",
    "\n",
    "* Use comments to explain your code.\n",
    "\n",
    "* Use comments to make your code more readable.\n"
   ]
  },
  {
   "cell_type": "markdown",
   "id": "668293ca",
   "metadata": {
    "slideshow": {
     "slide_type": "slide"
    }
   },
   "source": [
    "* **Single line comments** starts with a `#`, and Python will ignore them:"
   ]
  },
  {
   "cell_type": "code",
   "execution_count": null,
   "id": "873a6ea7",
   "metadata": {},
   "outputs": [],
   "source": [
    "a = 1\n",
    "a = a + 1 # * 10\n",
    "print(a)"
   ]
  },
  {
   "cell_type": "markdown",
   "id": "290c8e44",
   "metadata": {},
   "source": [
    "* Comments can be placed at the end of a line, and Python will ignore the rest of the line:"
   ]
  },
  {
   "cell_type": "code",
   "execution_count": null,
   "id": "2b92b84d",
   "metadata": {},
   "outputs": [],
   "source": [
    "print(\"Hello\")\n",
    "print(a)\n",
    "# print(\"World\")"
   ]
  },
  {
   "cell_type": "markdown",
   "id": "c35f70d7",
   "metadata": {
    "slideshow": {
     "slide_type": "-"
    }
   },
   "source": [
    "* Note how comments can be plain English to increase readability\n",
    "    * Or code, if you are trying to fix a bug or designing the algorithm"
   ]
  },
  {
   "cell_type": "markdown",
   "id": "9e239f36",
   "metadata": {},
   "source": [
    "* **Multi-line comments** start and end with `\"\"\"`"
   ]
  },
  {
   "cell_type": "code",
   "execution_count": null,
   "id": "d83d89c4",
   "metadata": {
    "slideshow": {
     "slide_type": "slide"
    }
   },
   "outputs": [],
   "source": [
    "\"\"\"\n",
    "Print \n",
    "multiples\n",
    "of \n",
    "3 \n",
    "\"\"\"\n",
    "\n",
    "a = 1\n",
    "\n",
    "#Get first multiple of 3\n",
    "a = a * 3\n",
    "print(a)\n",
    "\n",
    "#Get second multiple of 3\n",
    "a = a * 3\n",
    "print(a)\n",
    "\n",
    "#Get third multiple of 3\n",
    "a = a * 3\n",
    "print(a)"
   ]
  },
  {
   "cell_type": "code",
   "execution_count": null,
   "id": "2b783896",
   "metadata": {
    "slideshow": {
     "slide_type": "slide"
    }
   },
   "outputs": [],
   "source": [
    "\"\"\" \n",
    "Jane Doe Algorithm, for calculating gratuity\n",
    "\n",
    "computes 20% gratuity in three easy steps. \n",
    "\n",
    "Input(s)\n",
    "--------\n",
    "cheque_amount : int\n",
    "\n",
    "Output \n",
    "------\n",
    "int\n",
    "    20% of the cheque_amount\n",
    "\"\"\"\n",
    "\n",
    "cheque_amount = 27.03\n",
    "\n",
    "# 1. Compute 10% by moving the decimal point, one place, to the left\n",
    "Ten_percent = cheque_amount / 10\n",
    "\n",
    "# 2. Round the number \n",
    "ten_number_rounded = round(ten_percent)\n",
    "\n",
    "# 3. Double it \n",
    "tip_amount = ten_number_rounded * 2\n",
    "\n",
    "tip_amount"
   ]
  },
  {
   "cell_type": "markdown",
   "id": "16df15d4",
   "metadata": {},
   "source": [
    "<hr/>"
   ]
  },
  {
   "cell_type": "markdown",
   "id": "9f8ce339",
   "metadata": {
    "slideshow": {
     "slide_type": "slide"
    }
   },
   "source": [
    "## 1.13. Boolean Operators"
   ]
  },
  {
   "cell_type": "markdown",
   "id": "1c1493f6",
   "metadata": {},
   "source": [
    "These operators return `True` or `False` (i.e. boolean data type). \n",
    "\n",
    "| Operator      | Description   |Example.      |\n",
    "| :-----------  | :-----------: |:-----------: |\n",
    "| ==  |  Returns `True` if left hand operand is equal to right hand operand. Otherwise, returns `False`  | `a+b == b+a` |\n",
    "| != |  Returns `True` if left hand operand is _NOT_ equal to  right hand operand. Otherwise, returns `False`.  | `a*b != b/a`|\n",
    "| < |  Returns `True` if left hand operand is less than right hand operand. Otherwise, returns `False`.  | `b/a < b`|\n",
    "| > |  Returns `True` if left hand operand is greater than right hand operand. Otherwise, returns `False`.  | `a*b > b`|\n",
    "| <= |  Returns `True` if left hand operand is less than or equal to right hand operand. Otherwise, returns `False`.  | `a-b <= a`|\n",
    "| >= |  Returns `True` if left hand operand is greater than or equal to right hand operand. Otherwise, returns `False`.  | `a*b >= b*a`|"
   ]
  },
  {
   "cell_type": "code",
   "execution_count": null,
   "id": "51726f4b",
   "metadata": {
    "slideshow": {
     "slide_type": "slide"
    }
   },
   "outputs": [],
   "source": [
    "a = 2\n",
    "b = 10"
   ]
  },
  {
   "cell_type": "code",
   "execution_count": null,
   "id": "4c33d1bc",
   "metadata": {},
   "outputs": [],
   "source": [
    "a+b == b+a"
   ]
  },
  {
   "cell_type": "code",
   "execution_count": null,
   "id": "36bf7a09",
   "metadata": {},
   "outputs": [],
   "source": [
    "a+b != a*b"
   ]
  },
  {
   "cell_type": "code",
   "execution_count": null,
   "id": "c744bca2",
   "metadata": {},
   "outputs": [],
   "source": [
    "a**2 == a*2"
   ]
  },
  {
   "cell_type": "code",
   "execution_count": null,
   "id": "ed5d3ffb",
   "metadata": {},
   "outputs": [],
   "source": [
    "a+b < a+b"
   ]
  },
  {
   "cell_type": "code",
   "execution_count": null,
   "id": "036098b5",
   "metadata": {},
   "outputs": [],
   "source": [
    "a+b <= a+b"
   ]
  },
  {
   "cell_type": "markdown",
   "id": "6642c21e",
   "metadata": {},
   "source": [
    "<hr/>"
   ]
  },
  {
   "cell_type": "markdown",
   "id": "3501cf48",
   "metadata": {
    "slideshow": {
     "slide_type": "slide"
    }
   },
   "source": [
    "* A programming language is more than just a means for instructing a computer to perform tasks. \n",
    "\n",
    "\n",
    "* It also serves as a <u>**framework within which we organize our ideas**</u> about computational processes. \n",
    "\n",
    "\n",
    "* Programs serve to communicate those ideas among the members of a programming community. \n",
    "\n",
    "\n",
    "* Thus, let me re-emphasize **programs must be written for people to read, and only incidentally for machines to execute.**"
   ]
  }
 ],
 "metadata": {
  "kernelspec": {
   "display_name": "Python 3 (ipykernel)",
   "language": "python",
   "name": "python3"
  },
  "language_info": {
   "codemirror_mode": {
    "name": "ipython",
    "version": 3
   },
   "file_extension": ".py",
   "mimetype": "text/x-python",
   "name": "python",
   "nbconvert_exporter": "python",
   "pygments_lexer": "ipython3",
   "version": "3.9.12"
  }
 },
 "nbformat": 4,
 "nbformat_minor": 5
}
